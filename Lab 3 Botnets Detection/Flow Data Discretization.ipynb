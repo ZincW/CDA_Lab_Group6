{
 "cells": [
  {
   "cell_type": "markdown",
   "metadata": {},
   "source": [
    "# Botnet flow data discretization task"
   ]
  },
  {
   "cell_type": "code",
   "execution_count": 52,
   "metadata": {},
   "outputs": [],
   "source": [
    "import matplotlib.pyplot as plt\n",
    "import math\n",
    "import numpy as np\n",
    "import seaborn as sns\n",
    "import pandas as pd\n",
    "import random\n",
    "import collections\n",
    "import string\n",
    "import time"
   ]
  },
  {
   "cell_type": "markdown",
   "metadata": {},
   "source": [
    "We use the same way to preprocess the data.\n",
    "\n",
    "During preprocessing, I only reserve 'Botnet' and  'Normal'netflow but delete 'Background' flow data."
   ]
  },
  {
   "cell_type": "code",
   "execution_count": null,
   "metadata": {},
   "outputs": [],
   "source": [
    "output = StringIO()\n",
    "csv_writer = csv.writer(output)\n",
    "column_name = ['Dateflowstart', 'Durat', 'Prot', 'SrcIPAddr:Port', 'DstIPAddr:Port', 'Flags', 'Tos', 'PacketsBytes', 'Flows', 'Label', 'Labels']\n",
    "Botnet_data = pd.DataFrame(columns = column_name)\n",
    "with open('capture20110818.pcap.netflow.labeled', 'rb') as f:\n",
    "    next(f)\n",
    "    for index, line in enumerate(f):\n",
    "        #print(line)\n",
    "        parser = line.decode(\"utf-8\")\n",
    "        split_by_space = parser.split('\\t')\n",
    "        #print(parser)\n",
    "        #print(split_by_space)\n",
    "        temp1 =  [x for x in split_by_space if x != '->']\n",
    "        temp2 =  [x for x in temp1 if x != '']\n",
    "        temp2[-1] = temp2[-1].split('\\n')[0]\n",
    "        #print(temp2)\n",
    "        if(len(temp2)==1):\n",
    "            \n",
    "            #print(line)\n",
    "            #print(parser)\n",
    "            split_by_space = parser.split(' ')\n",
    "            #print(split_by_space)\n",
    "            temp1 =  [x for x in split_by_space if x != '->']\n",
    "            temp2 =  [x for x in temp1 if x != '']\n",
    "            temp2[-1] = temp2[-1].split('\\n')[0]\n",
    "            #print(temp2)\n",
    "            x=temp2.pop(1)\n",
    "            temp2[0]=temp2[0]+' '+x\n",
    "            #print(temp1)\n",
    "            #print(temp2)\n",
    "        #print(temp1)\n",
    "        #temp3 =  [x.split('\\n')[0] for x in temp2 if '\\n' in x]\n",
    "        #print(temp2)\n",
    "        if(temp2[-1]!='Background'):\n",
    "            #print(temp2[-1])\n",
    "            csv_writer.writerow(temp2)\n",
    "    output.seek(0) # we need to get back to the start of the BytesIO\n",
    "    Botnet_data = read_csv(output)\n",
    "Botnet_data.to_csv('Botnet_data10.csv', sep='\\t')"
   ]
  },
  {
   "cell_type": "code",
   "execution_count": 3,
   "metadata": {},
   "outputs": [
    {
     "data": {
      "text/plain": [
       "(645357, 12)"
      ]
     },
     "execution_count": 3,
     "metadata": {},
     "output_type": "execute_result"
    }
   ],
   "source": [
    "#Load preprocessed data\n",
    "data=pd.read_csv('Botnet_data10.csv',sep='\\t')\n",
    "data.shape"
   ]
  },
  {
   "cell_type": "code",
   "execution_count": 7,
   "metadata": {},
   "outputs": [
    {
     "name": "stdout",
     "output_type": "stream",
     "text": [
      "<class 'pandas.core.frame.DataFrame'>\n",
      "RangeIndex: 645357 entries, 0 to 645356\n",
      "Data columns (total 12 columns):\n",
      "ID                645357 non-null int64\n",
      "Dateflowstart     645357 non-null object\n",
      "Durat             644074 non-null float64\n",
      "Prot              644074 non-null object\n",
      "SrcIPAddr:Port    644074 non-null object\n",
      "DstIPAddr:Port    644074 non-null object\n",
      "Flags             644074 non-null object\n",
      "Tos               644074 non-null float64\n",
      "PacketsBytes      644074 non-null float64\n",
      "Flows             644074 non-null float64\n",
      "Label             644074 non-null float64\n",
      "Labels            644074 non-null object\n",
      "dtypes: float64(5), int64(1), object(6)\n",
      "memory usage: 59.1+ MB\n",
      "['ID', 'Dateflowstart', 'Durat', 'Prot', 'SrcIPAddr:Port', 'DstIPAddr:Port', 'Flags', 'Tos', 'PacketsBytes', 'Flows', 'Label', 'Labels']\n"
     ]
    }
   ],
   "source": [
    "data.info()\n",
    "column_name=list(data)\n",
    "print(column_name)"
   ]
  },
  {
   "cell_type": "markdown",
   "metadata": {},
   "source": [
    "Here we focus on the infected IP: '147.32.84.205' and two features: **Prot** and **Flags**"
   ]
  },
  {
   "cell_type": "code",
   "execution_count": 4,
   "metadata": {},
   "outputs": [
    {
     "name": "stdout",
     "output_type": "stream",
     "text": [
      "<class 'pandas.core.frame.DataFrame'>\n",
      "RangeIndex: 24437 entries, 0 to 24436\n",
      "Data columns (total 2 columns):\n",
      "Prot     24437 non-null object\n",
      "Flags    24437 non-null object\n",
      "dtypes: object(2)\n",
      "memory usage: 381.9+ KB\n"
     ]
    }
   ],
   "source": [
    "#Obtain corresponding data according to its source.\n",
    "#Here we choose 'Prot' and 'Flags' features \n",
    "feature=['Prot','Flags']\n",
    "infected_host='147.32.84.205'\n",
    "#Selected_Botnet_data = pd.DataFrame()\n",
    "Selected_Botnet_data_feature=[]\n",
    "for index, row in data.iterrows():\n",
    "    #print(index)\n",
    "    #print (row['SrcIPAddr:Port'], row['DstIPAddr:Port'])\n",
    "    #print(list(row[feature]))\n",
    "    #if (infected_host in str(row['SrcIPAddr:Port']) or infected_host in str(row['DstIPAddr:Port'])):\n",
    "    if (infected_host in str(row['SrcIPAddr:Port'])):\n",
    "        #Selected_Botnet_data.append(row[feature])\n",
    "        #for item in feature:\n",
    "        #print(row)\n",
    "        Selected_Botnet_data_feature.append(list(row[feature]))\n",
    "    #if(len(Selected_Botnet_data_feature)>100):\n",
    "        #break\n",
    "Selected_Botnet_data = pd.DataFrame(Selected_Botnet_data_feature,columns = feature)\n",
    "Selected_Botnet_data.info()"
   ]
  },
  {
   "cell_type": "markdown",
   "metadata": {},
   "source": [
    "### Visualization of these two feature"
   ]
  },
  {
   "cell_type": "code",
   "execution_count": 64,
   "metadata": {},
   "outputs": [
    {
     "name": "stdout",
     "output_type": "stream",
     "text": [
      "ICMP    23739\n",
      "TCP       359\n",
      "UDP       339\n",
      "Name: Prot, dtype: int64\n"
     ]
    },
    {
     "data": {
      "text/plain": [
       "<matplotlib.axes._subplots.AxesSubplot at 0x230b32f3b00>"
      ]
     },
     "execution_count": 64,
     "metadata": {},
     "output_type": "execute_result"
    },
    {
     "data": {
      "image/png": "[encoded data removed]",
      "text/plain": [
       "<matplotlib.figure.Figure at 0x230a1de8630>"
      ]
     },
     "metadata": {},
     "output_type": "display_data"
    }
   ],
   "source": [
    "print(Selected_Botnet_data['Prot'].value_counts())\n",
    "plt.subplots(figsize=(5, 5))\n",
    "sns.countplot(x=\"Prot\", data=Selected_Botnet_data, palette=\"Greens_d\")"
   ]
  },
  {
   "cell_type": "code",
   "execution_count": 5,
   "metadata": {},
   "outputs": [
    {
     "name": "stdout",
     "output_type": "stream",
     "text": [
      "ECO      10466\n",
      "UNK      10193\n",
      "ROB        506\n",
      "INT        339\n",
      "TST        301\n",
      "IRQ        300\n",
      "RTS        300\n",
      "RTA        300\n",
      "MAS        299\n",
      "RA_        225\n",
      "PA_         87\n",
      "MRP         58\n",
      "MRQ         55\n",
      "SRC         55\n",
      "NRA         53\n",
      "WAY         52\n",
      "PAR         52\n",
      "AHA         51\n",
      "PTB         50\n",
      "DNQ         49\n",
      "IAH         49\n",
      "RED         49\n",
      "TXD         47\n",
      "DCE         46\n",
      "TRC         46\n",
      "MHR         45\n",
      "SEC         45\n",
      "NRS         45\n",
      "NNS         44\n",
      "SKP         43\n",
      "NNA         38\n",
      "DNP         36\n",
      "PHO         32\n",
      "UR          30\n",
      "A_          17\n",
      "SPA_        16\n",
      "RPA_         9\n",
      "SRPA_        4\n",
      "URISO        1\n",
      "SA_          1\n",
      "URCUT        1\n",
      "URFIL        1\n",
      "URN          1\n",
      "Name: Flags, dtype: int64\n"
     ]
    },
    {
     "data": {
      "image/png": "[encoded data removed]",
      "text/plain": [
       "<matplotlib.figure.Figure at 0x230a7e86208>"
      ]
     },
     "metadata": {},
     "output_type": "display_data"
    }
   ],
   "source": [
    "plt.subplots(figsize=(25, 10))\n",
    "sns.countplot(x=\"Flags\", data=Selected_Botnet_data, palette=\"Blues_d\")\n",
    "print(Selected_Botnet_data['Flags'].value_counts())"
   ]
  },
  {
   "cell_type": "code",
   "execution_count": 74,
   "metadata": {},
   "outputs": [
    {
     "data": {
      "text/plain": [
       "ICMP    23739\n",
       "TCP       359\n",
       "UDP       339\n",
       "Name: Prot, dtype: int64"
      ]
     },
     "execution_count": 74,
     "metadata": {},
     "output_type": "execute_result"
    }
   ],
   "source": [
    "Selected_Botnet_data['Prot'].value_counts()"
   ]
  },
  {
   "cell_type": "code",
   "execution_count": 86,
   "metadata": {},
   "outputs": [
    {
     "name": "stdout",
     "output_type": "stream",
     "text": [
      "43 0\n"
     ]
    }
   ],
   "source": [
    "e=list(Selected_Botnet_data['Flags'].value_counts().index)\n",
    "print(len(e),e.index('ECO'))"
   ]
  },
  {
   "cell_type": "code",
   "execution_count": 66,
   "metadata": {},
   "outputs": [
    {
     "name": "stdout",
     "output_type": "stream",
     "text": [
      "['ECO', 'UNK', 'ROB', 'INT', 'TST', 'IRQ', 'RTS', 'RTA', 'MAS', 'RA_', 'PA_', 'MRP', 'MRQ', 'SRC', 'NRA', 'WAY', 'PAR', 'AHA', 'PTB', 'DNQ', 'IAH', 'RED', 'TXD', 'DCE', 'TRC', 'MHR', 'SEC', 'NRS', 'NNS', 'SKP', 'NNA', 'DNP', 'PHO', 'UR', 'A_', 'SPA_', 'RPA_', 'SRPA_', 'URISO', 'SA_', 'URCUT', 'URFIL', 'URN'] 43\n",
      "['ICMP', 'TCP', 'UDP']\n"
     ]
    }
   ],
   "source": [
    "Dis_Prot_list=[]\n",
    "Dis_Flags_list=[]\n",
    "Combined_Botnet_data=Selected_Botnet_data\n",
    "Flags_list=list(Selected_Botnet_data['Flags'].value_counts().index)\n",
    "Prot_list=list(Selected_Botnet_data['Prot'].value_counts().index)\n",
    "print(Flags_list,len(Flags_list))\n",
    "print(Prot_list)\n",
    "for index, row in Combined_Botnet_data.iterrows():\n",
    "    Dis_Prot_list.append(Prot_list.index(row['Prot']))\n",
    "    Dis_Flags_list.append(Flags_list.index(row['Flags']))\n",
    "#print(Dis_Flags_list)\n",
    "Combined_Botnet_data['Dis_Prot']=Dis_Prot_list\n",
    "Combined_Botnet_data['Dis_Flags']=Dis_Flags_list"
   ]
  },
  {
   "cell_type": "code",
   "execution_count": 67,
   "metadata": {},
   "outputs": [],
   "source": [
    "Combine_feature_list=[]\n",
    "for index, row in Combined_Botnet_data.iterrows():\n",
    "    Combine_feature_list.append(row['Dis_Prot']*len(Flags_list)+row['Dis_Flags'])\n",
    "    #print(row['Dis_Prot']*len(Prot_list)+row['Dis_Flags'])\n",
    "Combined_Botnet_data['Combine']=Combine_feature_list"
   ]
  },
  {
   "cell_type": "markdown",
   "metadata": {},
   "source": [
    "Do the discretization of the whole dataset."
   ]
  },
  {
   "cell_type": "code",
   "execution_count": 69,
   "metadata": {},
   "outputs": [
    {
     "name": "stdout",
     "output_type": "stream",
     "text": [
      "['ECO', 'ECR', 'UNK', 'A_', 'PA_', 'SPA_', 'FA_', '_FSPA', 'FSPA_', 'INT', 'FPA_', 'SA_', 'RA_', 'ROB', 'S_', 'RTA', 'TSR', 'TST', 'MSR', 'MAS', 'IRQ', 'RTS', 'IRR', 'FSA_', '_FSA', '___', 'FSRPA_', 'SRPA_', 'FRA_', 'FRPA_', 'IAH', 'WAY', 'SKP', 'MRQ', 'NRA', 'SRC', 'RED', 'NNA', 'SEC', 'PHO', 'PAR', 'MRP', 'AHA', 'PTB', 'TRC', 'NNS', 'MHR', 'UR', 'DCE', 'DNP', 'NRS', 'TXD', 'DNQ', 'R_', 'URH', '_FSRPA', 'RPA_', 'URP', 'SR_', 'PAC_', 'SRA_', '_FSRA', 'URHPRO', 'SPAC_', 'FSPAEC_', 'URNU', 'SEC_', 'URISO', 'URHU', 'FSPAC_', 'URHTOS', 'URNPRO', 'URPRE', 'URCUT', 'FSRA_', 'URS', 'URFIL', 'URN'] 78\n",
      "['TCP', 'ICMP', 'UDP']\n"
     ]
    }
   ],
   "source": [
    "data=pd.read_csv('Botnet_data10.csv',sep='\\t')\n",
    "Dis_Prot_list=[]\n",
    "Dis_Flags_list=[]\n",
    "Label_list=[]\n",
    "Flags_list=list(data['Flags'].value_counts().index)\n",
    "Prot_list=list(data['Prot'].value_counts().index)\n",
    "print(Flags_list,len(Flags_list))\n",
    "print(Prot_list)\n",
    "for index, row in data.iterrows():\n",
    "    #print(row['Prot'])\n",
    "    #if(row['Prot']=='nan'):\n",
    "    #print (index)\n",
    "    if(row['Labels']=='Botnet'):\n",
    "        Label_list.append(70)\n",
    "    else:\n",
    "        Label_list.append(0)\n",
    "    Dis_Prot_list.append(Prot_list.index(row['Prot']))\n",
    "    Dis_Flags_list.append(Flags_list.index(row['Flags']))\n",
    "#print(Dis_Flags_list)\n",
    "data['Dis_Prot']=Dis_Prot_list\n",
    "data['Dis_Flags']=Dis_Flags_list\n",
    "data['Int_label']=Label_list\n",
    "Combine_feature_list=[]\n",
    "for index, row in data.iterrows():\n",
    "    Combine_feature_list.append(row['Dis_Prot']*len(Flags_list)+row['Dis_Flags'])    \n",
    "data['Combine']=Combine_feature_list\n",
    "\n",
    "\n",
    "Dis_Prot_list=[]\n",
    "Dis_Flags_list=[]\n",
    "#print(Flags_list,len(Flags_list))\n",
    "#print(Prot_list)\n",
    "for index, row in Selected_Botnet_data.iterrows():\n",
    "    Dis_Prot_list.append(Prot_list.index(row['Prot']))\n",
    "    Dis_Flags_list.append(Flags_list.index(row['Flags']))\n",
    "#print(Dis_Flags_list)\n",
    "Selected_Botnet_data['Dis_Prot']=Dis_Prot_list\n",
    "Selected_Botnet_data['Dis_Flags']=Dis_Flags_list\n",
    "Combine_feature_list=[]\n",
    "for index, row in Selected_Botnet_data.iterrows():\n",
    "    Combine_feature_list.append(row['Dis_Prot']*len(Flags_list)+row['Dis_Flags'])\n",
    "    #print(row['Dis_Prot']*len(Prot_list)+row['Dis_Flags'])\n",
    "Selected_Botnet_data['Combine']=Combine_feature_list\n"
   ]
  },
  {
   "cell_type": "code",
   "execution_count": 94,
   "metadata": {},
   "outputs": [
    {
     "data": {
      "text/plain": [
       "Text(0.5,1,'Counts of combined feature of the whole dataset')"
      ]
     },
     "execution_count": 94,
     "metadata": {},
     "output_type": "execute_result"
    },
    {
     "data": {
      "image/png": "[encoded data removed]",
      "text/plain": [
       "<matplotlib.figure.Figure at 0x230afc21908>"
      ]
     },
     "metadata": {},
     "output_type": "display_data"
    }
   ],
   "source": [
    "plt.subplots(figsize=(25, 10))\n",
    "sns.countplot(x=\"Combine\", data=data, palette=\"Blues_d\").set_title('Counts of combined feature of the whole dataset')"
   ]
  },
  {
   "cell_type": "code",
   "execution_count": 96,
   "metadata": {},
   "outputs": [
    {
     "data": {
      "text/plain": [
       "Text(0.5,1,'Counts of combined feature of seleted Botnet data')"
      ]
     },
     "execution_count": 96,
     "metadata": {},
     "output_type": "execute_result"
    },
    {
     "data": {
      "image/png": "[encoded data removed]",
      "text/plain": [
       "<matplotlib.figure.Figure at 0x230bb929a20>"
      ]
     },
     "metadata": {},
     "output_type": "display_data"
    }
   ],
   "source": [
    "#print(Selected_Botnet_data['Combine'].value_counts())\n",
    "plt.subplots(figsize=(25, 10))\n",
    "sns.countplot(x=\"Combine\", data=Combined_Botnet_data, palette=\"Blues_d\").set_title('Counts of combined feature of seleted Botnet data')"
   ]
  },
  {
   "cell_type": "markdown",
   "metadata": {},
   "source": [
    "Here we first choose the combined feature '78' and '80' to test"
   ]
  },
  {
   "cell_type": "code",
   "execution_count": 93,
   "metadata": {},
   "outputs": [
    {
     "name": "stdout",
     "output_type": "stream",
     "text": [
      "tp= 162256 tn= 321157 fp= 787 fn= 136585\n",
      "recall= 0.5429509337741475  precision= 0.9951730525076207\n",
      "tpr= 0.5429509337741475  fpr= 0.0024445245135800014\n"
     ]
    }
   ],
   "source": [
    "tp=0\n",
    "tn=0\n",
    "fp=0\n",
    "fn=0\n",
    "label=[78,80]\n",
    "for index, row in data.iterrows():\n",
    "    #print(row['Combine'],row['Int_label'],row['Labels'])\n",
    "    if (infected_host not in str(row['SrcIPAddr:Port'])):\n",
    "    #if(True):\n",
    "        if ((row['Combine'] in label)and row['Int_label']==70):\n",
    "            tp+=1\n",
    "        else: \n",
    "            if ((row['Combine'] in label)and row['Int_label']==0):\n",
    "                fp+=1\n",
    "            else:  \n",
    "                if ((row['Combine'] not in label)and row['Int_label']==0):\n",
    "                    tn+=1\n",
    "                else:\n",
    "                    fn+=1\n",
    "print('tp=',tp,'tn=',tn,'fp=',fp,'fn=',fn)\n",
    "print('recall=',tp/(tp+fn),' precision=',tp/(tp+fp))\n",
    "print('tpr=',tp/(tp+fn),' fpr=',fp/(fp+tn))"
   ]
  },
  {
   "cell_type": "code",
   "execution_count": 98,
   "metadata": {},
   "outputs": [
    {
     "data": {
      "text/plain": [
       "Text(0.5,1,'Counts of combined feature of normal data')"
      ]
     },
     "execution_count": 98,
     "metadata": {},
     "output_type": "execute_result"
    },
    {
     "data": {
      "image/png": "[encoded data removed]",
      "text/plain": [
       "<matplotlib.figure.Figure at 0x230a07ac9e8>"
      ]
     },
     "metadata": {},
     "output_type": "display_data"
    }
   ],
   "source": [
    "plt.subplots(figsize=(25, 10))\n",
    "sns.countplot(x=\"Combine\", data=data[data['Labels']!='Botnet'], palette=\"Blues_d\").set_title('Counts of combined feature of normal data')"
   ]
  },
  {
   "cell_type": "code",
   "execution_count": 95,
   "metadata": {},
   "outputs": [
    {
     "data": {
      "text/plain": [
       "Text(0.5,1,'Counts of combined feature of Botnet data')"
      ]
     },
     "execution_count": 95,
     "metadata": {},
     "output_type": "execute_result"
    },
    {
     "data": {
      "image/png": "[encoded data removed]",
      "text/plain": [
       "<matplotlib.figure.Figure at 0x230aa1d8198>"
      ]
     },
     "metadata": {},
     "output_type": "display_data"
    }
   ],
   "source": [
    "plt.subplots(figsize=(25, 10))\n",
    "sns.countplot(x=\"Combine\", data=data[data['Labels']=='Botnet'], palette=\"Blues_d\").set_title('Counts of combined feature of Botnet data')"
   ]
  },
  {
   "cell_type": "markdown",
   "metadata": {},
   "source": [
    "Here we first choose the combined feature '78','79' and '80' to test"
   ]
  },
  {
   "cell_type": "code",
   "execution_count": 97,
   "metadata": {},
   "outputs": [
    {
     "name": "stdout",
     "output_type": "stream",
     "text": [
      "tp= 254512 tn= 321151 fp= 793 fn= 44329\n",
      "recall= 0.8516635936835977  precision= 0.9968939112042459\n",
      "tpr= 0.8516635936835977  fpr= 0.0024631612951320726\n"
     ]
    }
   ],
   "source": [
    "tp=0\n",
    "tn=0\n",
    "fp=0\n",
    "fn=0\n",
    "label=[78,79,80]\n",
    "for index, row in data.iterrows():\n",
    "    #print(row['Combine'],row['Int_label'],row['Labels'])\n",
    "    if (infected_host not in str(row['SrcIPAddr:Port'])):\n",
    "    #if(True):\n",
    "        if ((row['Combine'] in label)and row['Int_label']==70):\n",
    "            tp+=1\n",
    "        else: \n",
    "            if ((row['Combine'] in label)and row['Int_label']==0):\n",
    "                fp+=1\n",
    "            else:  \n",
    "                if ((row['Combine'] not in label)and row['Int_label']==0):\n",
    "                    tn+=1\n",
    "                else:\n",
    "                    fn+=1\n",
    "print('tp=',tp,'tn=',tn,'fp=',fp,'fn=',fn)\n",
    "print('recall=',tp/(tp+fn),' precision=',tp/(tp+fp))\n",
    "print('tpr=',tp/(tp+fn),' fpr=',fp/(fp+tn))"
   ]
  },
  {
   "cell_type": "code",
   "execution_count": 141,
   "metadata": {},
   "outputs": [],
   "source": [
    "from sklearn.cross_validation import train_test_split\n",
    "data_train, data_test, label_train, label_test = train_test_split(data[['Dis_Flags','Dis_Prot']], data['Int_label'], test_size = 0.3)#test_size: proportion of train/test data"
   ]
  },
  {
   "cell_type": "code",
   "execution_count": 145,
   "metadata": {},
   "outputs": [
    {
     "name": "stdout",
     "output_type": "stream",
     "text": [
      "Counter({0: 188110, 70: 3196, -70: 2302})\n",
      "tp= 94761  fp= 3196  fn= 2302  tn= 93349\n"
     ]
    }
   ],
   "source": [
    "from collections import Counter\n",
    "from sklearn import tree\n",
    "from sklearn.linear_model import LogisticRegression\n",
    "from sklearn.metrics import confusion_matrix\n",
    "clf=LogisticRegression(C=10)\n",
    "#clf=tree.DecisionTreeClassifier()\n",
    "clf.fit(data_train,label_train)\n",
    "predict_label=clf.predict(data_test)\n",
    "print(Counter(predict_label-label_test))\n",
    "tn, fp, fn, tp = confusion_matrix(label_test, predict_label).ravel()\n",
    "print('tp=',tp,' fp=',fp,' fn=',fn,' tn=',tn)"
   ]
  }
 ],
 "metadata": {
  "kernelspec": {
   "display_name": "Python 3",
   "language": "python",
   "name": "python3"
  },
  "language_info": {
   "codemirror_mode": {
    "name": "ipython",
    "version": 3
   },
   "file_extension": ".py",
   "mimetype": "text/x-python",
   "name": "python",
   "nbconvert_exporter": "python",
   "pygments_lexer": "ipython3",
   "version": "3.6.4"
  }
 },
 "nbformat": 4,
 "nbformat_minor": 2
}
