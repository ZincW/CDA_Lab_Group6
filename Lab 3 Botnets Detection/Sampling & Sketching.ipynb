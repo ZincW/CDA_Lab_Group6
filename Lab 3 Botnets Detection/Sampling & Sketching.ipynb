{
 "cells": [
  {
   "cell_type": "markdown",
   "metadata": {},
   "source": [
    "# Sampling & Sketching tasks"
   ]
  },
  {
   "cell_type": "markdown",
   "metadata": {},
   "source": [
    "We choose **CTU-Malware-Capture-Botnet-54** dataset to implement in this assignment.\n",
    "We finish the sampling and sketching tasks step by step as follows:\n",
    "1. Data preprocessing\n",
    "2. Find out the 10 most frequent IP address by traversing the data\n",
    "3. Apply Min-Wise sampling to find out 10 most frequent IP-addresses and analysis\n",
    "4. Apply Count-Min sketch to find out 10 most frequent IP-addresses and analysis."
   ]
  },
  {
   "cell_type": "code",
   "execution_count": 1,
   "metadata": {},
   "outputs": [],
   "source": [
    "import matplotlib.pyplot as plt\n",
    "import math\n",
    "import numpy as np\n",
    "import seaborn as sns\n",
    "import pandas as pd\n",
    "import random\n",
    "import collections\n",
    "import string\n",
    "import time\n",
    "from io import StringIO\n",
    "import csv\n",
    "from pandas import read_csv"
   ]
  },
  {
   "cell_type": "markdown",
   "metadata": {},
   "source": [
    "1. Data preprocessing"
   ]
  },
  {
   "cell_type": "code",
   "execution_count": null,
   "metadata": {},
   "outputs": [],
   "source": [
    "## Preprocessing data\n",
    "output = StringIO()\n",
    "csv_writer = csv.writer(output)\n",
    "column_name = ['Dateflowstart', 'Durat', 'Prot', 'SrcIPAddr:Port', 'DstIPAddr:Port', 'Flags', 'Tos', 'PacketsBytes', 'Flows', 'Label', 'Labels']\n",
    "Botnet_data = pd.DataFrame(columns = column_name)\n",
    "with open('capture20110818.pcap.netflow.labeled', 'rb') as f:\n",
    "    next(f)\n",
    "    for index, line in enumerate(f):\n",
    "        parser = line.decode(\"utf-8\")\n",
    "        split_by_space = parser.split('\\t')\n",
    "        temp1 =  [x for x in split_by_space if x != '->']\n",
    "        temp2 =  [x for x in temp1 if x != '']\n",
    "        temp2[-1] = temp2[-1].split('\\n')[0]\n",
    "        #print(temp2)\n",
    "        if(len(temp2)==1):\n",
    "            split_by_space = parser.split(' ')\n",
    "            temp1 =  [x for x in split_by_space if x != '->']\n",
    "            temp2 =  [x for x in temp1 if x != '']\n",
    "            temp2[-1] = temp2[-1].split('\\n')[0]\n",
    "            #print(temp2)\n",
    "            x=temp2.pop(1)\n",
    "            temp2[0]=temp2[0]+' '+x\n",
    "        csv_writer.writerow(temp2)\n",
    "    output.seek(0) # we need to get back to the start of the BytesIO\n",
    "    Botnet_data = read_csv(output)\n",
    "#print(Botnet_data)\n",
    "Botnet_data.to_csv('Botnet_data.csv', sep='\\t')"
   ]
  },
  {
   "cell_type": "markdown",
   "metadata": {},
   "source": [
    "2. Find out the 10 most frequent IP address by traversing the data"
   ]
  },
  {
   "cell_type": "code",
   "execution_count": 2,
   "metadata": {},
   "outputs": [
    {
     "data": {
      "text/plain": [
       "(1299089, 12)"
      ]
     },
     "execution_count": 2,
     "metadata": {},
     "output_type": "execute_result"
    }
   ],
   "source": [
    "#Load preprocessed data\n",
    "data=pd.read_csv('Botnet_data.csv',sep='\\t')\n",
    "data.shape\n",
    "    "
   ]
  },
  {
   "cell_type": "code",
   "execution_count": 6,
   "metadata": {
    "scrolled": true
   },
   "outputs": [
    {
     "name": "stdout",
     "output_type": "stream",
     "text": [
      "<class 'pandas.core.frame.DataFrame'>\n",
      "RangeIndex: 1299089 entries, 0 to 1299088\n",
      "Data columns (total 12 columns):\n",
      "Unnamed: 0        1299089 non-null int64\n",
      "Dateflowstart     1299089 non-null object\n",
      "Durat             1299089 non-null float64\n",
      "Prot              1299089 non-null object\n",
      "SrcIPAddr:Port    1299089 non-null object\n",
      "DstIPAddr:Port    1299089 non-null object\n",
      "Flags             1299089 non-null object\n",
      "Tos               1299089 non-null int64\n",
      "PacketsBytes      1299089 non-null int64\n",
      "Flows             1299089 non-null int64\n",
      "Label             1299089 non-null int64\n",
      "Labels            1299089 non-null object\n",
      "dtypes: float64(1), int64(5), object(6)\n",
      "memory usage: 118.9+ MB\n"
     ]
    }
   ],
   "source": [
    "data.info()"
   ]
  },
  {
   "cell_type": "code",
   "execution_count": 36,
   "metadata": {},
   "outputs": [
    {
     "name": "stdout",
     "output_type": "stream",
     "text": [
      "['Unnamed: 0', 'Dateflowstart', 'Durat', 'Prot', 'SrcIPAddr:Port', 'DstIPAddr:Port', 'Flags', 'Tos', 'PacketsBytes', 'Flows', 'Label', 'Labels']\n"
     ]
    }
   ],
   "source": [
    "print(list(data))"
   ]
  },
  {
   "cell_type": "code",
   "execution_count": 30,
   "metadata": {},
   "outputs": [
    {
     "name": "stdout",
     "output_type": "stream",
     "text": [
      "2598178\n"
     ]
    }
   ],
   "source": [
    "source=list(data['SrcIPAddr:Port'])+list(data['DstIPAddr:Port'])\n",
    "print(len(source))"
   ]
  },
  {
   "cell_type": "markdown",
   "metadata": {},
   "source": [
    "### Host ip from the website of the dataset\n",
    "The host ip starts like '147.'"
   ]
  },
  {
   "cell_type": "markdown",
   "metadata": {},
   "source": [
    "2.Find out the 10 most frequent IP address by traversing the data"
   ]
  },
  {
   "cell_type": "code",
   "execution_count": 29,
   "metadata": {},
   "outputs": [
    {
     "data": {
      "text/plain": [
       "980067"
      ]
     },
     "execution_count": 29,
     "metadata": {},
     "output_type": "execute_result"
    }
   ],
   "source": [
    "sum(other_ip1.values())\n",
    "#sum(other_ip2.values())"
   ]
  },
  {
   "cell_type": "code",
   "execution_count": 21,
   "metadata": {},
   "outputs": [
    {
     "name": "stdout",
     "output_type": "stream",
     "text": [
      "--- 2.256657361984253 seconds ---\n"
     ]
    },
    {
     "data": {
      "text/plain": [
       "[('76.13.114.90', 6723),\n",
       " ('74.125.232.213', 6469),\n",
       " ('66.194.55.249', 5964),\n",
       " ('68.233.5.80', 5521),\n",
       " ('188.138.84.239', 5190),\n",
       " ('74.125.39.125', 4989),\n",
       " ('88.86.102.50', 4055),\n",
       " ('209.85.148.104', 3622),\n",
       " ('87.98.230.229', 3196),\n",
       " ('74.125.232.215', 3084)]"
      ]
     },
     "execution_count": 21,
     "metadata": {},
     "output_type": "execute_result"
    }
   ],
   "source": [
    "start_time = time.time()\n",
    "#Regard ip starting with '147' as host ip\n",
    "other_ip1={}\n",
    "for ip in source:\n",
    "    curr_ip=ip.split(':')[0]\n",
    "    #print(ip.split(',')[0])\n",
    "    if ip.split('.')[0]!='147':\n",
    "    #if curr_ip not in host:\n",
    "        if curr_ip in other_ip1:\n",
    "            other_ip1[curr_ip]+=1\n",
    "        else:\n",
    "            other_ip1[curr_ip]=1\n",
    "print(\"--- %s seconds ---\" % (time.time() - start_time))\n",
    "\n",
    "sorted(other_ip1.items(),key=lambda item:item[1],reverse=True)[0:10]\n"
   ]
  },
  {
   "cell_type": "code",
   "execution_count": 16,
   "metadata": {},
   "outputs": [
    {
     "name": "stdout",
     "output_type": "stream",
     "text": [
      "--- 0.962348222732544 seconds ---\n"
     ]
    },
    {
     "data": {
      "text/plain": [
       "[('147.32.84.229', 301762),\n",
       " ('147.32.84.59', 71886),\n",
       " ('147.32.84.138', 58564),\n",
       " ('147.32.86.20', 16483),\n",
       " ('147.32.85.25', 15972),\n",
       " ('147.32.86.179', 12115),\n",
       " ('147.32.85.34', 11631),\n",
       " ('147.32.80.13', 9735),\n",
       " ('147.32.85.7', 9432),\n",
       " ('147.32.84.171', 7298)]"
      ]
     },
     "execution_count": 16,
     "metadata": {},
     "output_type": "execute_result"
    }
   ],
   "source": [
    "start_time = time.time()         \n",
    "other_ip2={}\n",
    "for ip in source:\n",
    "    curr_ip=ip.split(':')[0]\n",
    "    #print(ip.split(',')[0])\n",
    "    if curr_ip not in host:\n",
    "        if curr_ip in other_ip2:\n",
    "            other_ip2[curr_ip]+=+1\n",
    "        else:\n",
    "            other_ip2[curr_ip]=1\n",
    "\n",
    "print(\"--- %s seconds ---\" % (time.time() - start_time))\n",
    "sorted(other_ip2.items(),key=lambda item:item[1],reverse=True)[0:10]"
   ]
  },
  {
   "cell_type": "markdown",
   "metadata": {},
   "source": [
    "### MIN-WISE Sampling\n",
    "Apply Min-Wise sampling to find out 10 most frequent IP-addresses and analysis"
   ]
  },
  {
   "cell_type": "code",
   "execution_count": 22,
   "metadata": {},
   "outputs": [],
   "source": [
    "def min_wise_sample (streamdata, k):\n",
    "    sampledata=[]\n",
    "    sampledata_r=[]\n",
    "    for ip in streamdata[:k]:\n",
    "        #curr_ip=ip.split(':')[0]\n",
    "        r=random.random()\n",
    "        sampledata.append(ip)\n",
    "        sampledata_r.append(r)\n",
    "    \n",
    "    for ip in streamdata[k:]:\n",
    "        #curr_ip=ip.split(':')[0]\n",
    "        r=random.random()\n",
    "        if r<max(sampledata_r):\n",
    "            index=sampledata_r.index(max(sampledata_r))\n",
    "            sampledata.pop(index)\n",
    "            sampledata_r.pop(index)\n",
    "            sampledata.append(ip)\n",
    "            sampledata_r.append(r)\n",
    "    return sampledata\n",
    "            \n",
    "        "
   ]
  },
  {
   "cell_type": "code",
   "execution_count": 23,
   "metadata": {},
   "outputs": [],
   "source": [
    "#get all so-called 'other' IP address\n",
    "source1=[]\n",
    "for ip in source:\n",
    "    curr_ip=ip.split(':')[0]\n",
    "    if ip.split('.')[0]!='147':\n",
    "    #if curr_ip not in host:\n",
    "        source1.append(curr_ip)"
   ]
  },
  {
   "cell_type": "code",
   "execution_count": 36,
   "metadata": {},
   "outputs": [
    {
     "name": "stdout",
     "output_type": "stream",
     "text": [
      "[('74.125.39.125', 7), ('68.233.5.80', 6), ('74.125.232.213', 4), ('74.125.232.216', 4), ('76.13.114.90', 4), ('74.125.232.215', 3), ('85.160.62.18', 3), ('74.125.232.220', 3), ('66.194.55.249', 3), ('209.85.148.106', 3)]\n",
      "--- 11.10586953163147 seconds ---\n",
      "####################################\n",
      "####################################\n",
      "[('76.13.114.90', 35), ('74.125.232.213', 28), ('66.194.55.249', 24), ('68.233.5.80', 23), ('88.86.102.50', 17), ('209.85.148.104', 16), ('188.138.84.239', 16), ('62.168.92.250', 14), ('74.125.39.125', 13), ('109.80.225.83', 12)]\n",
      "--- 64.90811848640442 seconds ---\n",
      "####################################\n",
      "####################################\n",
      "[('68.233.5.80', 69), ('76.13.114.90', 69), ('188.138.84.239', 61), ('74.125.232.213', 59), ('74.125.39.125', 55), ('66.194.55.249', 52), ('88.86.102.50', 48), ('78.45.43.209', 42), ('78.80.14.227', 39), ('109.80.225.83', 37)]\n",
      "--- 224.85903024673462 seconds ---\n",
      "####################################\n",
      "####################################\n",
      "[('66.194.55.249', 204), ('76.13.114.90', 191), ('74.125.232.213', 179), ('188.138.84.239', 160), ('68.233.5.80', 148), ('74.125.39.125', 148), ('88.86.102.50', 131), ('87.98.230.229', 119), ('209.85.148.104', 112), ('74.125.232.215', 104)]\n",
      "--- 756.8575463294983 seconds ---\n",
      "####################################\n",
      "####################################\n",
      "[('76.13.114.90', 346), ('74.125.232.213', 334), ('66.194.55.249', 297), ('68.233.5.80', 265), ('74.125.39.125', 243), ('188.138.84.239', 242), ('88.86.102.50', 225), ('209.85.148.104', 175), ('74.125.232.215', 171), ('174.121.79.174', 165)]\n",
      "--- 1298.211502313614 seconds ---\n",
      "####################################\n",
      "####################################\n",
      "[('76.13.114.90', 673), ('74.125.232.213', 655), ('66.194.55.249', 602), ('68.233.5.80', 578), ('188.138.84.239', 558), ('74.125.39.125', 471), ('88.86.102.50', 379), ('209.85.148.104', 377), ('74.125.232.215', 328), ('87.98.230.229', 323)]\n",
      "--- 2935.6450271606445 seconds ---\n",
      "####################################\n",
      "####################################\n"
     ]
    }
   ],
   "source": [
    "num=[500,3000,10000,30000,50000,100000]\n",
    "for n in num:\n",
    "    start_time=time.time()\n",
    "    sample1=min_wise_sample(source1, n)\n",
    "    print(collections.Counter(sample1).most_common(10))\n",
    "    print(\"--- %s seconds ---\" % (time.time() - start_time))\n",
    "    print('####################################')\n",
    "    print('####################################')\n"
   ]
  },
  {
   "cell_type": "markdown",
   "metadata": {},
   "source": [
    "### Count-Min Sketch\n",
    "Apply Count-Min sketch to find out 10 most frequent IP-addresses and analysis."
   ]
  },
  {
   "cell_type": "code",
   "execution_count": 39,
   "metadata": {},
   "outputs": [],
   "source": [
    "#define functions\n",
    "def count_min_sketch(data,height,weight):\n",
    "    sketchmatrix=np.zeros((height,weight))\n",
    "    #random strings to execute different hash function\n",
    "    randomstring=[]\n",
    "    for i in range(height):\n",
    "        randomstring.append(''.join(random.sample(string.ascii_letters + string.digits, 8)))\n",
    "    \n",
    "    for ip in data:\n",
    "        for i in range(height):\n",
    "            temp=hash(randomstring[i]+str(ip))%weight\n",
    "            #print(temp)\n",
    "            sketchmatrix[i,temp]+=1\n",
    "    return sketchmatrix,randomstring\n",
    "\n",
    "def get_sketch_frequency(data,sketchmatrix,randomstring,num):\n",
    "    datafrequency={}\n",
    "    for ip in data:\n",
    "        tempnumber=[]\n",
    "        for i in range(len(randomstring)):\n",
    "            temp=hash(randomstring[i]+str(ip))%sketchmatrix.shape[1]\n",
    "            #print(temp)\n",
    "            tempnumber.append(sketchmatrix[i,temp])\n",
    "        datafrequency[ip]=min(tempnumber)\n",
    "        \n",
    "    return sorted(datafrequency.items(),key=lambda item:item[1],reverse=True)[0:num]\n",
    "            \n",
    "    "
   ]
  },
  {
   "cell_type": "code",
   "execution_count": 41,
   "metadata": {},
   "outputs": [
    {
     "name": "stdout",
     "output_type": "stream",
     "text": [
      "height= 1  width= 500\n",
      "[('99.227.246.143', 8513.0), ('76.235.44.111', 8513.0), ('114.158.231.170', 8513.0), ('95.107.251.197', 8513.0), ('95.26.223.181', 8513.0), ('89.113.228.222', 8513.0), ('79.97.111.2', 8513.0), ('188.242.130.40', 8513.0), ('84.54.184.132', 8513.0), ('79.18.33.19', 8513.0)]\n",
      "--- 1.852426290512085 seconds ---\n",
      "####################################\n",
      "####################################\n",
      "height= 1  width= 3000\n",
      "[('209.85.148.106', 7044.0), ('201.83.55.2', 7044.0), ('111.254.193.68', 7044.0), ('76.68.241.9', 7044.0), ('68.147.48.123', 7044.0), ('84.73.158.96', 7044.0), ('207.245.236.60', 7044.0), ('173.180.138.102', 7044.0), ('216.106.105.234', 7044.0), ('130.209.232.117', 7044.0)]\n",
      "--- 1.7594540119171143 seconds ---\n",
      "####################################\n",
      "####################################\n",
      "height= 1  width= 10000\n",
      "[('76.13.114.90', 6739.0), ('46.33.232.151', 6739.0), ('197.194.76.48', 6739.0), ('66.87.94.140', 6739.0), ('108.82.237.43', 6739.0), ('77.75.72.11', 6739.0), ('74.125.232.213', 6509.0), ('190.179.39.75', 6509.0), ('79.97.105.30', 6509.0), ('82.44.3.16', 6509.0)]\n",
      "--- 1.5416197776794434 seconds ---\n",
      "####################################\n",
      "####################################\n",
      "height= 1  width= 30000\n",
      "[('109.182.0.130', 6747.0), ('76.13.114.90', 6747.0), ('151.65.22.148', 6747.0), ('74.125.232.213', 6507.0), ('196.29.205.182', 6507.0), ('66.194.55.249', 6179.0), ('178.65.52.50', 6179.0), ('213.88.212.42', 6179.0), ('85.80.231.230', 6179.0), ('79.82.102.249', 6179.0)]\n",
      "--- 1.5371670722961426 seconds ---\n",
      "####################################\n",
      "####################################\n",
      "height= 5  width= 500\n",
      "[('76.13.114.90', 7827.0), ('74.125.232.213', 7770.0), ('66.194.55.249', 7044.0), ('188.138.84.239', 6628.0), ('68.233.5.80', 6524.0), ('74.125.39.125', 6117.0), ('88.86.102.50', 5224.0), ('209.85.148.104', 4667.0), ('109.80.225.83', 4414.0), ('87.98.230.229', 4307.0)]\n",
      "--- 5.867666006088257 seconds ---\n",
      "####################################\n",
      "####################################\n",
      "height= 5  width= 3000\n",
      "[('76.13.114.90', 6862.0), ('74.125.232.213', 6607.0), ('66.194.55.249', 6066.0), ('68.233.5.80', 5588.0), ('188.138.84.239', 5296.0), ('74.125.39.125', 5118.0), ('88.86.102.50', 4152.0), ('209.85.148.104', 3807.0), ('87.98.230.229', 3308.0), ('174.121.79.174', 3195.0)]\n",
      "--- 5.82594633102417 seconds ---\n",
      "####################################\n",
      "####################################\n",
      "height= 5  width= 10000\n",
      "[('76.13.114.90', 6749.0), ('74.125.232.213', 6499.0), ('66.194.55.249', 6006.0), ('68.233.5.80', 5545.0), ('188.138.84.239', 5220.0), ('74.125.39.125', 5005.0), ('88.86.102.50', 4085.0), ('209.85.148.104', 3648.0), ('87.98.230.229', 3216.0), ('74.125.232.215', 3120.0)]\n",
      "--- 5.945939064025879 seconds ---\n",
      "####################################\n",
      "####################################\n",
      "height= 5  width= 30000\n",
      "[('76.13.114.90', 6727.0), ('74.125.232.213', 6469.0), ('66.194.55.249', 5964.0), ('68.233.5.80', 5527.0), ('188.138.84.239', 5198.0), ('74.125.39.125', 4991.0), ('88.86.102.50', 4059.0), ('209.85.148.104', 3632.0), ('87.98.230.229', 3206.0), ('74.125.232.215', 3096.0)]\n",
      "--- 6.647531986236572 seconds ---\n",
      "####################################\n",
      "####################################\n",
      "height= 10  width= 500\n",
      "[('76.13.114.90', 7655.0), ('74.125.232.213', 7454.0), ('66.194.55.249', 6976.0), ('68.233.5.80', 6748.0), ('188.138.84.239', 6348.0), ('74.125.39.125', 6049.0), ('88.86.102.50', 5457.0), ('209.85.148.104', 4813.0), ('74.125.232.215', 4261.0), ('78.45.43.209', 4170.0)]\n",
      "--- 11.390180826187134 seconds ---\n",
      "####################################\n",
      "####################################\n",
      "height= 10  width= 3000\n",
      "[('76.13.114.90', 6836.0), ('74.125.232.213', 6621.0), ('66.194.55.249', 6096.0), ('68.233.5.80', 5662.0), ('188.138.84.239', 5296.0), ('74.125.39.125', 5103.0), ('88.86.102.50', 4169.0), ('209.85.148.104', 3728.0), ('87.98.230.229', 3290.0), ('174.121.79.174', 3160.0)]\n",
      "--- 11.462560415267944 seconds ---\n",
      "####################################\n",
      "####################################\n",
      "height= 10  width= 10000\n",
      "[('76.13.114.90', 6735.0), ('74.125.232.213', 6477.0), ('66.194.55.249', 5978.0), ('68.233.5.80', 5531.0), ('188.138.84.239', 5210.0), ('74.125.39.125', 5019.0), ('88.86.102.50', 4073.0), ('209.85.148.104', 3638.0), ('87.98.230.229', 3206.0), ('74.125.232.215', 3094.0)]\n",
      "--- 11.734355449676514 seconds ---\n",
      "####################################\n",
      "####################################\n",
      "height= 10  width= 30000\n",
      "[('76.13.114.90', 6727.0), ('74.125.232.213', 6479.0), ('66.194.55.249', 5968.0), ('68.233.5.80', 5525.0), ('188.138.84.239', 5192.0), ('74.125.39.125', 4989.0), ('88.86.102.50', 4055.0), ('209.85.148.104', 3622.0), ('87.98.230.229', 3200.0), ('74.125.232.215', 3088.0)]\n",
      "--- 11.872839450836182 seconds ---\n",
      "####################################\n",
      "####################################\n",
      "height= 30  width= 500\n",
      "[('76.13.114.90', 7757.0), ('74.125.232.213', 7372.0), ('66.194.55.249', 6998.0), ('68.233.5.80', 6535.0), ('188.138.84.239', 6198.0), ('74.125.39.125', 5969.0), ('88.86.102.50', 5102.0), ('209.85.148.104', 4656.0), ('87.98.230.229', 4159.0), ('174.121.79.174', 4144.0)]\n",
      "--- 33.51499009132385 seconds ---\n",
      "####################################\n",
      "####################################\n",
      "height= 30  width= 3000\n",
      "[('76.13.114.90', 6773.0), ('74.125.232.213', 6563.0), ('66.194.55.249', 6051.0), ('68.233.5.80', 5623.0), ('188.138.84.239', 5270.0), ('74.125.39.125', 5054.0), ('88.86.102.50', 4118.0), ('209.85.148.104', 3723.0), ('87.98.230.229', 3274.0), ('174.121.79.174', 3183.0)]\n",
      "--- 38.46111750602722 seconds ---\n",
      "####################################\n",
      "####################################\n",
      "height= 30  width= 10000\n",
      "[('76.13.114.90', 6731.0), ('74.125.232.213', 6478.0), ('66.194.55.249', 5968.0), ('68.233.5.80', 5539.0), ('188.138.84.239', 5216.0), ('74.125.39.125', 4995.0), ('88.86.102.50', 4065.0), ('209.85.148.104', 3634.0), ('87.98.230.229', 3216.0), ('74.125.232.215', 3102.0)]\n",
      "--- 35.97887945175171 seconds ---\n",
      "####################################\n",
      "####################################\n",
      "height= 30  width= 30000\n",
      "[('76.13.114.90', 6725.0), ('74.125.232.213', 6473.0), ('66.194.55.249', 5964.0), ('68.233.5.80', 5521.0), ('188.138.84.239', 5190.0), ('74.125.39.125', 4989.0), ('88.86.102.50', 4057.0), ('209.85.148.104', 3624.0), ('87.98.230.229', 3198.0), ('74.125.232.215', 3084.0)]\n",
      "--- 36.769917726516724 seconds ---\n",
      "####################################\n",
      "####################################\n"
     ]
    }
   ],
   "source": [
    "height=[1,5,10,30]\n",
    "width=[500,3000,10000,30000]\n",
    "num=10\n",
    "#Here only outputs the 10 most frequent IP\n",
    "for h in height:\n",
    "    for w in width:\n",
    "        start_time=time.time()\n",
    "        sketchmatrix1,randomstring1=count_min_sketch(source1,h,w)\n",
    "        print('height=',h,' width=',w)\n",
    "        print(get_sketch_frequency(other_ip1.keys(),sketchmatrix1,randomstring1,num))\n",
    "        print(\"--- %s seconds ---\" % (time.time() - start_time))\n",
    "        print('####################################')\n",
    "        print('####################################')"
   ]
  },
  {
   "cell_type": "code",
   "execution_count": 42,
   "metadata": {},
   "outputs": [
    {
     "name": "stdout",
     "output_type": "stream",
     "text": [
      "height= 1  width= 50\n",
      "[('161.111.235.112', 29384.0), ('68.233.5.80', 29384.0), ('114.24.172.183', 29384.0), ('86.49.87.107', 29384.0), ('82.113.106.224', 29384.0), ('70.88.254.65', 29384.0), ('211.23.1.198', 29384.0), ('81.95.98.8', 29384.0), ('83.166.167.22', 29384.0), ('87.255.19.94', 29384.0)]\n",
      "--- 1.8674647808074951 seconds ---\n",
      "####################################\n",
      "####################################\n",
      "height= 1  width= 100\n",
      "[('83.163.158.159', 16873.0), ('94.209.77.164', 16873.0), ('82.243.23.121', 16873.0), ('205.188.10.233', 16873.0), ('78.80.14.227', 16873.0), ('193.219.76.93', 16873.0), ('94.245.121.251', 16873.0), ('74.125.232.204', 16873.0), ('2.47.251.165', 16873.0), ('46.56.228.96', 16873.0)]\n",
      "--- 1.515679121017456 seconds ---\n",
      "####################################\n",
      "####################################\n",
      "height= 5  width= 50\n",
      "[('95.57.239.2', 23380.0), ('95.43.236.214', 23380.0), ('88.86.102.50', 23317.0), ('187.5.68.58', 23181.0), ('50.80.11.83', 23144.0), ('64.134.176.91', 23123.0), ('76.13.114.90', 23118.0), ('109.75.39.17', 23118.0), ('123.219.73.11', 23091.0), ('200.88.48.202', 23091.0)]\n",
      "--- 5.394178867340088 seconds ---\n",
      "####################################\n",
      "####################################\n",
      "height= 5  width= 100\n",
      "[('74.125.39.125', 14688.0), ('76.13.114.90', 14282.0), ('74.125.232.213', 13963.0), ('66.194.55.249', 13227.0), ('68.233.5.80', 12657.0), ('46.158.248.174', 12263.0), ('24.208.77.242', 12169.0), ('109.162.202.130', 12162.0), ('62.168.92.250', 12044.0), ('117.201.14.145', 11911.0)]\n",
      "--- 5.395301818847656 seconds ---\n",
      "####################################\n",
      "####################################\n",
      "height= 10  width= 50\n",
      "[('76.13.114.90', 23309.0), ('74.125.232.213', 21620.0), ('68.233.5.80', 21244.0), ('88.86.102.50', 20820.0), ('86.49.87.107', 20770.0), ('187.57.180.103', 20728.0), ('74.125.232.215', 20703.0), ('99.253.150.158', 20611.0), ('84.41.42.165', 20611.0), ('66.194.55.249', 20604.0)]\n",
      "--- 10.282624959945679 seconds ---\n",
      "####################################\n",
      "####################################\n",
      "height= 10  width= 100\n",
      "[('74.125.232.213', 13567.0), ('76.13.114.90', 13172.0), ('188.138.84.239', 12415.0), ('74.125.39.125', 12313.0), ('66.194.55.249', 12161.0), ('68.233.5.80', 11754.0), ('209.85.148.104', 11048.0), ('174.121.79.174', 10794.0), ('88.86.102.50', 10443.0), ('109.54.37.223', 10427.0)]\n",
      "--- 10.359077453613281 seconds ---\n",
      "####################################\n",
      "####################################\n",
      "height= 30  width= 50\n",
      "[('74.125.232.213', 21684.0), ('76.13.114.90', 21457.0), ('68.233.5.80', 20430.0), ('66.194.55.249', 20090.0), ('188.138.84.239', 20053.0), ('74.125.39.125', 19411.0), ('209.85.148.104', 19258.0), ('87.98.230.229', 18069.0), ('209.85.148.103', 18033.0), ('74.125.232.215', 17874.0)]\n",
      "--- 29.369157075881958 seconds ---\n",
      "####################################\n",
      "####################################\n",
      "height= 30  width= 100\n",
      "[('76.13.114.90', 13616.0), ('74.125.232.213', 12786.0), ('66.194.55.249', 12762.0), ('74.125.39.125', 12148.0), ('188.138.84.239', 11797.0), ('68.233.5.80', 11776.0), ('88.86.102.50', 10639.0), ('209.85.148.104', 10537.0), ('74.125.232.214', 10249.0), ('86.49.87.107', 9981.0)]\n",
      "--- 32.03653430938721 seconds ---\n",
      "####################################\n",
      "####################################\n"
     ]
    }
   ],
   "source": [
    "#Testing when the width is small\n",
    "height=[1,5,10,30]\n",
    "width=[50,100]\n",
    "num=10\n",
    "#Here only outputs the 10 most frequent IP\n",
    "for h in height:\n",
    "    for w in width:\n",
    "        start_time=time.time()\n",
    "        sketchmatrix1,randomstring1=count_min_sketch(source1,h,w)\n",
    "        print('height=',h,' width=',w)\n",
    "        print(get_sketch_frequency(other_ip1.keys(),sketchmatrix1,randomstring1,num))\n",
    "        print(\"--- %s seconds ---\" % (time.time() - start_time))\n",
    "        print('####################################')\n",
    "        print('####################################')"
   ]
  }
 ],
 "metadata": {
  "kernelspec": {
   "display_name": "Python 3",
   "language": "python",
   "name": "python3"
  },
  "language_info": {
   "codemirror_mode": {
    "name": "ipython",
    "version": 3
   },
   "file_extension": ".py",
   "mimetype": "text/x-python",
   "name": "python",
   "nbconvert_exporter": "python",
   "pygments_lexer": "ipython3",
   "version": "3.6.4"
  }
 },
 "nbformat": 4,
 "nbformat_minor": 2
}
