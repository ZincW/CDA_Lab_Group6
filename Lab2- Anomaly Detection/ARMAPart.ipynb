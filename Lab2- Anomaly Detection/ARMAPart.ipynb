{
 "cells": [
  {
   "cell_type": "markdown",
   "metadata": {},
   "source": [
    "# ARMA Task"
   ]
  },
  {
   "cell_type": "markdown",
   "metadata": {},
   "source": [
    "In this part, we are supposed to do finish these tasks:\n",
    "1. Preprocess data\n",
    "2. Familar with data and define the kinds of sensor\n",
    "3. Learn an autoregressive moving average model for each individual sensor\n",
    "4. Use autocorrelation plots in order to identify the order of the ARMA models\n",
    "5. Apply model selection methods to determine parameters"
   ]
  },
  {
   "cell_type": "markdown",
   "metadata": {},
   "source": [
    "**Step1: Preprocessing**"
   ]
  },
  {
   "cell_type": "code",
   "execution_count": 136,
   "metadata": {},
   "outputs": [],
   "source": [
    "import matplotlib.pyplot as plt\n",
    "import numpy as np\n",
    "import seaborn as sns\n",
    "import pandas as pd\n",
    "from pandas.plotting import autocorrelation_plot\n",
    "from datetime import datetime\n",
    "from matplotlib.pylab import rcParams\n",
    "from pandas.core import datetools\n",
    "rcParams['figure.figsize'] = 15, 7\n",
    "from statsmodels.tsa.arima_model import ARIMA\n",
    "from statsmodels.tsa.stattools import adfuller\n",
    "from scipy import  stats\n",
    "import statsmodels.api as sm\n",
    "import statsmodels.tsa.stattools as st\n",
    "from sklearn.metrics import mean_squared_error\n",
    "from statsmodels.graphics.api import qqplot\n",
    "from statsmodels.graphics.tsaplots import plot_acf\n",
    "import numpy as np\n",
    "import scipy as sp\n",
    "import scipy.stats"
   ]
  },
  {
   "cell_type": "code",
   "execution_count": 288,
   "metadata": {},
   "outputs": [
    {
     "name": "stdout",
     "output_type": "stream",
     "text": [
      "['L_T1', 'L_T2', 'L_T3', 'L_T4', 'L_T5', 'L_T6', 'L_T7', 'F_PU1', 'S_PU1', 'F_PU2', 'S_PU2', 'F_PU3', 'S_PU3', 'F_PU4', 'S_PU4', 'F_PU5', 'S_PU5', 'F_PU6', 'S_PU6', 'F_PU7', 'S_PU7', 'F_PU8', 'S_PU8', 'F_PU9', 'S_PU9', 'F_PU10', 'S_PU10', 'F_PU11', 'S_PU11', 'F_V2', 'S_V2', 'P_J280', 'P_J269', 'P_J300', 'P_J256', 'P_J289', 'P_J415', 'P_J302', 'P_J306', 'P_J307', 'P_J317', 'P_J14', 'P_J422']\n",
      "DatetimeIndex(['2016-07-04 00:00:00', '2016-07-04 01:00:00',\n",
      "               '2016-07-04 02:00:00', '2016-07-04 03:00:00',\n",
      "               '2016-07-04 04:00:00', '2016-07-04 05:00:00',\n",
      "               '2016-07-04 06:00:00', '2016-07-04 07:00:00',\n",
      "               '2016-07-04 08:00:00', '2016-07-04 09:00:00',\n",
      "               ...\n",
      "               '2016-12-24 15:00:00', '2016-12-24 16:00:00',\n",
      "               '2016-12-24 17:00:00', '2016-12-24 18:00:00',\n",
      "               '2016-12-24 19:00:00', '2016-12-24 20:00:00',\n",
      "               '2016-12-24 21:00:00', '2016-12-24 22:00:00',\n",
      "               '2016-12-24 23:00:00', '2016-12-25 00:00:00'],\n",
      "              dtype='datetime64[ns]', name='DATETIME', length=4177, freq=None)\n"
     ]
    }
   ],
   "source": [
    "# ##################################################\n",
    "# #               LOAD DATA                        #\n",
    "# ##################################################\n",
    "# train03 = pd.read_csv('BATADAL_dataset03.csv')\n",
    "# train04 = pd.read_csv('BATADAL_dataset04.csv')\n",
    "# test_set = pd.read_csv('BATADAL_test_dataset.csv')\n",
    "# # shape of these three dataset\n",
    "# # (8761, 45)# (4177, 45)# (2089, 44)\n",
    "print(list(test_set))\n",
    "L_group = ['L_T1', 'L_T2', 'L_T3', 'L_T4', 'L_T5', 'L_T6', 'L_T7']\n",
    "dateparse = lambda dates: pd.datetime.strptime(dates, '%d/%m/%y %H')\n",
    "\n",
    "train04_series = pd.read_csv('BATADAL_dataset04_label.csv', sep='\\s*,\\s*',parse_dates=['DATETIME'], index_col='DATETIME', squeeze=True,date_parser=dateparse,engine='python')\n",
    "X_train04 = train04_series.fillna(train04_series.bfill())\n",
    "X_train04 = X_train04.drop('ATT_FLAG',axis=1,inplace=False)\n",
    "y_train04 = train04_series['ATT_FLAG']\n",
    "\n",
    "train03_series = pd.read_csv('BATADAL_dataset03.csv', sep='\\s*,\\s*',parse_dates=['DATETIME'], index_col='DATETIME', squeeze=True,date_parser=dateparse,engine='python')\n",
    "X_train03 = train03_series.drop('ATT_FLAG',axis=1,inplace=False)\n",
    "y_train03 = train03_series['ATT_FLAG']\n",
    "\n",
    "temp_test = pd.read_csv('BATADAL_test_dataset_label.csv', sep='\\s*,\\s*',parse_dates=['DATETIME'], index_col='DATETIME', squeeze=True,date_parser=dateparse,engine='python')\n",
    "test_set = temp_test.drop('AUU_FLAG',axis=1,inplace=False)\n",
    "y_test= temp_test['AUU_FLAG']\n",
    "print(X_train04.index)"
   ]
  },
  {
   "cell_type": "markdown",
   "metadata": {},
   "source": [
    " For simplicity, we can use the fillna() function to ensure that we have no missing values in our time series\n",
    "\n",
    "- Apply timestamp as index\n",
    "- Rescale to obtain zero mean and unit variance\n"
   ]
  },
  {
   "cell_type": "markdown",
   "metadata": {},
   "source": [
    "**Step 2: Familirization**\n",
    "\n",
    "Familar with data and define the kinds of sensor. L_group = ['L_T1', 'L_T2', 'L_T3', 'L_T4', 'L_T5', 'L_T6', 'L_T7'] is our sensor group including 7 different sensors."
   ]
  },
  {
   "cell_type": "code",
   "execution_count": 120,
   "metadata": {},
   "outputs": [],
   "source": [
    "def stationarity_test(dataset,column_name,number):\n",
    "    data = dataset.copy()\n",
    "    data = data.iloc[: len(data)-number] #exclude last 'number' of data\n",
    "    #stationary test\n",
    "    from statsmodels.tsa.stattools import adfuller as ADF\n",
    "    diff = 0\n",
    "    adf = ADF(data[column_name])\n",
    "    while adf[1] > 0.05:\n",
    "        diff = diff + 1\n",
    "        adf = ADF(data[column_name].diff(diff).dropna())\n",
    "    print(u'After %s diff, the series is stationary，p value is%s' %(diff, adf[1]))\n",
    "def whitenoise_test(dataset,column_name,number):\n",
    "    data = dataset.copy()\n",
    "    data = data.iloc[: len(data)-number] \n",
    "    from statsmodels.stats.diagnostic import acorr_ljungbox\n",
    "    [[lb], [p]] = acorr_ljungbox(data[column_name], lags = 1)\n",
    "    if p < 0.05:\n",
    "        print(u'the original series is non-white noise series，p value is：%s' %p)\n",
    "    else:\n",
    "        print(u'the original series is white noise series，p value is：%s' %p)\n",
    "    [[lb], [p]] = acorr_ljungbox(data[column_name].diff().dropna(), lags = 1)\n",
    "    if p < 0.05:\n",
    "        print(u'First-order differential series is non-white noise series，p value is：%s' %p)\n",
    "    else:\n",
    "        print(u'First-order differential series is white noise series，p value is：%s' %p)"
   ]
  },
  {
   "cell_type": "markdown",
   "metadata": {},
   "source": [
    "**Step 2.1:** is stationary or not? which is the optimal differential coefficient? is it white-noise series?"
   ]
  },
  {
   "cell_type": "code",
   "execution_count": 5,
   "metadata": {},
   "outputs": [
    {
     "name": "stdout",
     "output_type": "stream",
     "text": [
      "for sensor: L_T1\n",
      "After 0 diff, the series is stationary，p value is0.0\n",
      "the original series is non-white noise series，p value is：0.0\n",
      "First-order differential series is non-white noise series，p value is：0.0\n",
      "----------------------------------\n",
      "for sensor: L_T2\n",
      "After 0 diff, the series is stationary，p value is2.0664924042521113e-30\n",
      "the original series is non-white noise series，p value is：0.0\n",
      "First-order differential series is non-white noise series，p value is：0.0\n",
      "----------------------------------\n",
      "for sensor: L_T3\n",
      "After 0 diff, the series is stationary，p value is9.673433370567284e-27\n",
      "the original series is non-white noise series，p value is：0.0\n",
      "First-order differential series is non-white noise series，p value is：0.0\n",
      "----------------------------------\n",
      "for sensor: L_T4\n",
      "After 0 diff, the series is stationary，p value is1.9682468722464932e-29\n",
      "the original series is non-white noise series，p value is：0.0\n",
      "First-order differential series is non-white noise series，p value is：7.081643858731659e-13\n",
      "----------------------------------\n",
      "for sensor: L_T5\n",
      "After 0 diff, the series is stationary，p value is2.132627838594664e-30\n",
      "the original series is non-white noise series，p value is：0.0\n",
      "First-order differential series is non-white noise series，p value is：0.0\n",
      "----------------------------------\n",
      "for sensor: L_T6\n",
      "After 0 diff, the series is stationary，p value is2.0871908429108404e-30\n",
      "the original series is non-white noise series，p value is：0.0\n",
      "First-order differential series is non-white noise series，p value is：1.5836432566778364e-97\n",
      "----------------------------------\n",
      "for sensor: L_T7\n",
      "After 0 diff, the series is stationary，p value is4.8470067597025735e-30\n",
      "the original series is non-white noise series，p value is：0.0\n",
      "First-order differential series is non-white noise series，p value is：1.4074626078895708e-93\n",
      "----------------------------------\n"
     ]
    }
   ],
   "source": [
    "X_train03_preprocessed = pd.DataFrame()\n",
    "for column_name in L_group: \n",
    "    print('for sensor:',column_name)\n",
    "    stationarity_test(X_train03,column_name, 30 )\n",
    "    whitenoise_test(X_train03,column_name, 30 )\n",
    "    print('----------------------------------')\n",
    "#     X_train03_preprocessed[column_name] = X_train03[column_name].diff(1)\n",
    "#     X_train03_preprocessed[column_name].plot()\n",
    "#     plt.show()"
   ]
  },
  {
   "cell_type": "markdown",
   "metadata": {},
   "source": [
    "All column in series are stationary and non-white noise series from the results. "
   ]
  },
  {
   "cell_type": "markdown",
   "metadata": {},
   "source": [
    "**Step 2.2** Find possible parameters by partial autocorrelation plot and autocorrelation plot\n",
    "\n",
    "A partial autocorrelation is a summary of the relationship between an observation in a time series with observations at prior time steps with the relationships of intervening observations removed.\n",
    "*We can calculate the correlation for time series observations with observations with previous time steps, called lags. Because the correlation of the time series observations is calculated with values of the same series at previous times, this is called a serial correlation, or an autocorrelation."
   ]
  },
  {
   "cell_type": "code",
   "execution_count": 122,
   "metadata": {},
   "outputs": [
    {
     "name": "stdout",
     "output_type": "stream",
     "text": [
      "For Sensor: L_T1\n"
     ]
    },
    {
     "data": {
      "image/png": "[encoded data removed]",
      "text/plain": [
       "<matplotlib.figure.Figure at 0x1e79e064438>"
      ]
     },
     "metadata": {},
     "output_type": "display_data"
    },
    {
     "name": "stdout",
     "output_type": "stream",
     "text": [
      "---------------------------\n",
      "For Sensor: L_T2\n"
     ]
    },
    {
     "data": {
      "image/png": "[encoded data removed]",
      "text/plain": [
       "<matplotlib.figure.Figure at 0x1e79797e978>"
      ]
     },
     "metadata": {},
     "output_type": "display_data"
    },
    {
     "name": "stdout",
     "output_type": "stream",
     "text": [
      "---------------------------\n",
      "For Sensor: L_T3\n"
     ]
    },
    {
     "data": {
      "image/png": "[encoded data removed]",
      "text/plain": [
       "<matplotlib.figure.Figure at 0x1e7976b8ba8>"
      ]
     },
     "metadata": {},
     "output_type": "display_data"
    },
    {
     "name": "stdout",
     "output_type": "stream",
     "text": [
      "---------------------------\n",
      "For Sensor: L_T4\n"
     ]
    },
    {
     "data": {
      "image/png": "[encoded data removed]",
      "text/plain": [
       "<matplotlib.figure.Figure at 0x1e7976b89b0>"
      ]
     },
     "metadata": {},
     "output_type": "display_data"
    },
    {
     "name": "stdout",
     "output_type": "stream",
     "text": [
      "---------------------------\n",
      "For Sensor: L_T5\n"
     ]
    },
    {
     "data": {
      "image/png": "[encoded data removed]",
      "text/plain": [
       "<matplotlib.figure.Figure at 0x1e7986aa828>"
      ]
     },
     "metadata": {},
     "output_type": "display_data"
    },
    {
     "name": "stdout",
     "output_type": "stream",
     "text": [
      "---------------------------\n",
      "For Sensor: L_T6\n"
     ]
    },
    {
     "data": {
      "image/png": "[encoded data removed]",
      "text/plain": [
       "<matplotlib.figure.Figure at 0x1e797d4dc18>"
      ]
     },
     "metadata": {},
     "output_type": "display_data"
    },
    {
     "name": "stdout",
     "output_type": "stream",
     "text": [
      "---------------------------\n",
      "For Sensor: L_T7\n"
     ]
    },
    {
     "data": {
      "image/png": "[encoded data removed]",
      "text/plain": [
       "<matplotlib.figure.Figure at 0x1e7a012df60>"
      ]
     },
     "metadata": {},
     "output_type": "display_data"
    },
    {
     "name": "stdout",
     "output_type": "stream",
     "text": [
      "---------------------------\n"
     ]
    }
   ],
   "source": [
    "for column_name in L_group: \n",
    "    print('For Sensor:', column_name)\n",
    "    dta= X_train03[column_name]\n",
    "    fig = plt.figure(figsize=(12,8))\n",
    "    ax1 = fig.add_subplot(211)\n",
    "    fig = sm.graphics.tsa.plot_acf(dta.values.squeeze(), lags=48, ax=ax1)\n",
    "    ax2 = fig.add_subplot(212)\n",
    "    fig = sm.graphics.tsa.plot_pacf(dta, lags=48, ax=ax2)\n",
    "    plt.show()\n",
    "    print('---------------------------')"
   ]
  },
  {
   "cell_type": "markdown",
   "metadata": {},
   "source": [
    "--------------------------------------------------------------------------------------------------------------------------\n",
    "#Step 2.4 Find the optimal parameters by AIC\n",
    "\n",
    "When evaluating and comparing statistical models fitted with different parameters, each can be ranked against one another based on how well it fits the data or its ability to accurately predict future data points. We will use the AIC (Akaike Information Criterion) value, which is conveniently returned with ARIMA models fitted using statsmodels. The AIC measures how well a model fits the data while taking into account the overall complexity of the model. A model that fits the data very well while using lots of features will be assigned a larger AIC score than a model that uses fewer features to achieve the same goodness-of-fit. Therefore, we are interested in finding the model that yields the lowest AIC value."
   ]
  },
  {
   "cell_type": "markdown",
   "metadata": {},
   "source": [
    "For each sensor:"
   ]
  },
  {
   "cell_type": "code",
   "execution_count": 13,
   "metadata": {},
   "outputs": [
    {
     "name": "stdout",
     "output_type": "stream",
     "text": [
      "sensor: L_T1\n",
      "p : 1, d: 0, q: 0, AIC: -558.10\n"
     ]
    },
    {
     "name": "stderr",
     "output_type": "stream",
     "text": [
      "C:\\Users\\zinaw\\Anaconda3\\lib\\site-packages\\statsmodels\\tsa\\kalmanf\\kalmanfilter.py:646: FutureWarning: Conversion of the second argument of issubdtype from `float` to `np.floating` is deprecated. In future, it will be treated as `np.float64 == np.dtype(float).type`.\n",
      "  if issubdtype(paramsdtype, float):\n",
      "C:\\Users\\zinaw\\Anaconda3\\lib\\site-packages\\statsmodels\\tsa\\kalmanf\\kalmanfilter.py:650: FutureWarning: Conversion of the second argument of issubdtype from `complex` to `np.complexfloating` is deprecated. In future, it will be treated as `np.complex128 == np.dtype(complex).type`.\n",
      "  elif issubdtype(paramsdtype, complex):\n",
      "C:\\Users\\zinaw\\Anaconda3\\lib\\site-packages\\statsmodels\\tsa\\kalmanf\\kalmanfilter.py:577: FutureWarning: Conversion of the second argument of issubdtype from `float` to `np.floating` is deprecated. In future, it will be treated as `np.float64 == np.dtype(float).type`.\n",
      "  if issubdtype(paramsdtype, float):\n"
     ]
    },
    {
     "name": "stdout",
     "output_type": "stream",
     "text": [
      "p : 1, d: 0, q: 1, AIC: -7752.46\n",
      "p : 1, d: 0, q: 2, AIC: -10576.71\n",
      "p : 1, d: 1, q: 0, AIC: -11899.70\n",
      "p : 1, d: 1, q: 1, AIC: -12444.85\n",
      "p : 1, d: 1, q: 2, AIC: -12460.70\n",
      "p : 1, d: 2, q: 0, AIC: -11461.06\n",
      "p : 1, d: 2, q: 1, AIC: -11528.49\n"
     ]
    },
    {
     "name": "stderr",
     "output_type": "stream",
     "text": [
      "C:\\Users\\zinaw\\Anaconda3\\lib\\site-packages\\statsmodels\\base\\model.py:496: ConvergenceWarning: Maximum Likelihood optimization failed to converge. Check mle_retvals\n",
      "  \"Check mle_retvals\", ConvergenceWarning)\n"
     ]
    },
    {
     "name": "stdout",
     "output_type": "stream",
     "text": [
      "p : 1, d: 2, q: 2, AIC: -12433.04\n",
      "p : 2, d: 0, q: 0, AIC: -13038.32\n",
      "p : 2, d: 0, q: 1, AIC: -13266.34\n",
      "p : 2, d: 0, q: 2, AIC: -13286.69\n",
      "p : 2, d: 1, q: 0, AIC: -12472.27\n",
      "p : 2, d: 1, q: 1, AIC: -13031.91\n"
     ]
    },
    {
     "name": "stderr",
     "output_type": "stream",
     "text": [
      "C:\\Users\\zinaw\\Anaconda3\\lib\\site-packages\\statsmodels\\base\\model.py:496: ConvergenceWarning: Maximum Likelihood optimization failed to converge. Check mle_retvals\n",
      "  \"Check mle_retvals\", ConvergenceWarning)\n"
     ]
    },
    {
     "name": "stdout",
     "output_type": "stream",
     "text": [
      "p : 2, d: 1, q: 2, AIC: -13259.87\n",
      "p : 2, d: 2, q: 0, AIC: -11566.76\n"
     ]
    },
    {
     "name": "stderr",
     "output_type": "stream",
     "text": [
      "C:\\Users\\zinaw\\Anaconda3\\lib\\site-packages\\statsmodels\\base\\model.py:496: ConvergenceWarning: Maximum Likelihood optimization failed to converge. Check mle_retvals\n",
      "  \"Check mle_retvals\", ConvergenceWarning)\n"
     ]
    },
    {
     "name": "stdout",
     "output_type": "stream",
     "text": [
      "p : 2, d: 2, q: 1, AIC: -12459.43\n"
     ]
    },
    {
     "name": "stderr",
     "output_type": "stream",
     "text": [
      "C:\\Users\\zinaw\\Anaconda3\\lib\\site-packages\\statsmodels\\base\\model.py:496: ConvergenceWarning: Maximum Likelihood optimization failed to converge. Check mle_retvals\n",
      "  \"Check mle_retvals\", ConvergenceWarning)\n"
     ]
    },
    {
     "name": "stdout",
     "output_type": "stream",
     "text": [
      "p : 2, d: 2, q: 2, AIC: -12456.21\n",
      "p : 3, d: 0, q: 0, AIC: -13229.09\n",
      "p : 3, d: 0, q: 1, AIC: -13277.97\n",
      "p : 3, d: 0, q: 2, AIC: -13412.40\n",
      "p : 3, d: 1, q: 0, AIC: -12470.30\n"
     ]
    },
    {
     "name": "stderr",
     "output_type": "stream",
     "text": [
      "C:\\Users\\zinaw\\Anaconda3\\lib\\site-packages\\statsmodels\\base\\model.py:496: ConvergenceWarning: Maximum Likelihood optimization failed to converge. Check mle_retvals\n",
      "  \"Check mle_retvals\", ConvergenceWarning)\n"
     ]
    },
    {
     "name": "stdout",
     "output_type": "stream",
     "text": [
      "p : 3, d: 1, q: 1, AIC: -13218.59\n"
     ]
    },
    {
     "name": "stderr",
     "output_type": "stream",
     "text": [
      "C:\\Users\\zinaw\\Anaconda3\\lib\\site-packages\\statsmodels\\base\\model.py:496: ConvergenceWarning: Maximum Likelihood optimization failed to converge. Check mle_retvals\n",
      "  \"Check mle_retvals\", ConvergenceWarning)\n"
     ]
    },
    {
     "name": "stdout",
     "output_type": "stream",
     "text": [
      "p : 3, d: 1, q: 2, AIC: -13271.66\n",
      "p : 3, d: 2, q: 0, AIC: -11577.01\n"
     ]
    },
    {
     "name": "stderr",
     "output_type": "stream",
     "text": [
      "C:\\Users\\zinaw\\Anaconda3\\lib\\site-packages\\statsmodels\\base\\model.py:496: ConvergenceWarning: Maximum Likelihood optimization failed to converge. Check mle_retvals\n",
      "  \"Check mle_retvals\", ConvergenceWarning)\n"
     ]
    },
    {
     "name": "stdout",
     "output_type": "stream",
     "text": [
      "p : 3, d: 2, q: 1, AIC: -12459.01\n"
     ]
    },
    {
     "name": "stderr",
     "output_type": "stream",
     "text": [
      "C:\\Users\\zinaw\\Anaconda3\\lib\\site-packages\\statsmodels\\base\\model.py:496: ConvergenceWarning: Maximum Likelihood optimization failed to converge. Check mle_retvals\n",
      "  \"Check mle_retvals\", ConvergenceWarning)\n"
     ]
    },
    {
     "name": "stdout",
     "output_type": "stream",
     "text": [
      "p : 3, d: 2, q: 2, AIC: -12460.06\n",
      "p : 4, d: 0, q: 0, AIC: -13302.66\n"
     ]
    },
    {
     "name": "stderr",
     "output_type": "stream",
     "text": [
      "C:\\Users\\zinaw\\Anaconda3\\lib\\site-packages\\statsmodels\\base\\model.py:496: ConvergenceWarning: Maximum Likelihood optimization failed to converge. Check mle_retvals\n",
      "  \"Check mle_retvals\", ConvergenceWarning)\n"
     ]
    },
    {
     "name": "stdout",
     "output_type": "stream",
     "text": [
      "p : 4, d: 0, q: 1, AIC: -13386.81\n"
     ]
    },
    {
     "name": "stderr",
     "output_type": "stream",
     "text": [
      "C:\\Users\\zinaw\\Anaconda3\\lib\\site-packages\\statsmodels\\base\\model.py:496: ConvergenceWarning: Maximum Likelihood optimization failed to converge. Check mle_retvals\n",
      "  \"Check mle_retvals\", ConvergenceWarning)\n"
     ]
    },
    {
     "name": "stdout",
     "output_type": "stream",
     "text": [
      "p : 4, d: 0, q: 2, AIC: -13411.09\n",
      "p : 4, d: 1, q: 0, AIC: -12508.11\n"
     ]
    },
    {
     "name": "stderr",
     "output_type": "stream",
     "text": [
      "C:\\Users\\zinaw\\Anaconda3\\lib\\site-packages\\statsmodels\\base\\model.py:496: ConvergenceWarning: Maximum Likelihood optimization failed to converge. Check mle_retvals\n",
      "  \"Check mle_retvals\", ConvergenceWarning)\n"
     ]
    },
    {
     "name": "stdout",
     "output_type": "stream",
     "text": [
      "p : 4, d: 1, q: 1, AIC: -13296.30\n",
      "p : 4, d: 1, q: 2, AIC: -13290.58\n",
      "p : 4, d: 2, q: 0, AIC: -11577.26\n"
     ]
    },
    {
     "name": "stderr",
     "output_type": "stream",
     "text": [
      "C:\\Users\\zinaw\\Anaconda3\\lib\\site-packages\\statsmodels\\base\\model.py:496: ConvergenceWarning: Maximum Likelihood optimization failed to converge. Check mle_retvals\n",
      "  \"Check mle_retvals\", ConvergenceWarning)\n"
     ]
    },
    {
     "name": "stdout",
     "output_type": "stream",
     "text": [
      "p : 4, d: 2, q: 1, AIC: -12494.96\n"
     ]
    },
    {
     "name": "stderr",
     "output_type": "stream",
     "text": [
      "C:\\Users\\zinaw\\Anaconda3\\lib\\site-packages\\statsmodels\\base\\model.py:473: HessianInversionWarning: Inverting hessian failed, no bse or cov_params available\n",
      "  'available', HessianInversionWarning)\n",
      "C:\\Users\\zinaw\\Anaconda3\\lib\\site-packages\\statsmodels\\base\\model.py:496: ConvergenceWarning: Maximum Likelihood optimization failed to converge. Check mle_retvals\n",
      "  \"Check mle_retvals\", ConvergenceWarning)\n"
     ]
    },
    {
     "name": "stdout",
     "output_type": "stream",
     "text": [
      "p : 4, d: 2, q: 2, AIC: -12789.21\n",
      "p : 5, d: 0, q: 0, AIC: -13306.71\n"
     ]
    },
    {
     "name": "stderr",
     "output_type": "stream",
     "text": [
      "C:\\Users\\zinaw\\Anaconda3\\lib\\site-packages\\statsmodels\\base\\model.py:496: ConvergenceWarning: Maximum Likelihood optimization failed to converge. Check mle_retvals\n",
      "  \"Check mle_retvals\", ConvergenceWarning)\n"
     ]
    },
    {
     "name": "stdout",
     "output_type": "stream",
     "text": [
      "p : 5, d: 0, q: 1, AIC: -13413.79\n",
      "p : 5, d: 0, q: 2, AIC: -13402.25\n",
      "p : 5, d: 1, q: 0, AIC: -12584.66\n"
     ]
    },
    {
     "name": "stderr",
     "output_type": "stream",
     "text": [
      "C:\\Users\\zinaw\\Anaconda3\\lib\\site-packages\\statsmodels\\base\\model.py:496: ConvergenceWarning: Maximum Likelihood optimization failed to converge. Check mle_retvals\n",
      "  \"Check mle_retvals\", ConvergenceWarning)\n"
     ]
    },
    {
     "name": "stdout",
     "output_type": "stream",
     "text": [
      "p : 5, d: 1, q: 1, AIC: -13280.32\n"
     ]
    },
    {
     "name": "stderr",
     "output_type": "stream",
     "text": [
      "C:\\Users\\zinaw\\Anaconda3\\lib\\site-packages\\statsmodels\\base\\model.py:496: ConvergenceWarning: Maximum Likelihood optimization failed to converge. Check mle_retvals\n",
      "  \"Check mle_retvals\", ConvergenceWarning)\n"
     ]
    },
    {
     "name": "stdout",
     "output_type": "stream",
     "text": [
      "p : 5, d: 1, q: 2, AIC: -13272.66\n",
      "p : 5, d: 2, q: 0, AIC: -11575.27\n"
     ]
    },
    {
     "name": "stderr",
     "output_type": "stream",
     "text": [
      "C:\\Users\\zinaw\\Anaconda3\\lib\\site-packages\\statsmodels\\base\\model.py:496: ConvergenceWarning: Maximum Likelihood optimization failed to converge. Check mle_retvals\n",
      "  \"Check mle_retvals\", ConvergenceWarning)\n"
     ]
    },
    {
     "name": "stdout",
     "output_type": "stream",
     "text": [
      "p : 5, d: 2, q: 1, AIC: -12554.61\n"
     ]
    },
    {
     "name": "stderr",
     "output_type": "stream",
     "text": [
      "C:\\Users\\zinaw\\Anaconda3\\lib\\site-packages\\statsmodels\\tsa\\tsatools.py:584: RuntimeWarning: overflow encountered in exp\n",
      "  newparams = ((1-np.exp(-params))/\n",
      "C:\\Users\\zinaw\\Anaconda3\\lib\\site-packages\\statsmodels\\tsa\\tsatools.py:585: RuntimeWarning: overflow encountered in exp\n",
      "  (1+np.exp(-params))).copy()\n",
      "C:\\Users\\zinaw\\Anaconda3\\lib\\site-packages\\statsmodels\\tsa\\tsatools.py:585: RuntimeWarning: invalid value encountered in true_divide\n",
      "  (1+np.exp(-params))).copy()\n",
      "C:\\Users\\zinaw\\Anaconda3\\lib\\site-packages\\statsmodels\\tsa\\tsatools.py:586: RuntimeWarning: overflow encountered in exp\n",
      "  tmp = ((1-np.exp(-params))/\n",
      "C:\\Users\\zinaw\\Anaconda3\\lib\\site-packages\\statsmodels\\tsa\\tsatools.py:587: RuntimeWarning: overflow encountered in exp\n",
      "  (1+np.exp(-params))).copy()\n",
      "C:\\Users\\zinaw\\Anaconda3\\lib\\site-packages\\statsmodels\\tsa\\tsatools.py:587: RuntimeWarning: invalid value encountered in true_divide\n",
      "  (1+np.exp(-params))).copy()\n"
     ]
    },
    {
     "name": "stdout",
     "output_type": "stream",
     "text": [
      "sensor: L_T2\n",
      "p : 1, d: 0, q: 0, AIC: 11081.94\n",
      "p : 1, d: 0, q: 1, AIC: 4485.76\n",
      "p : 1, d: 0, q: 2, AIC: 1977.72\n",
      "p : 1, d: 1, q: 0, AIC: 2267.85\n",
      "p : 1, d: 1, q: 1, AIC: 1433.38\n",
      "p : 1, d: 1, q: 2, AIC: 1349.47\n",
      "p : 1, d: 2, q: 0, AIC: 2809.87\n",
      "p : 1, d: 2, q: 1, AIC: 2276.44\n",
      "p : 2, d: 0, q: 0, AIC: -15.64\n",
      "p : 2, d: 0, q: 1, AIC: -206.84\n",
      "p : 2, d: 0, q: 2, AIC: -221.14\n",
      "p : 2, d: 1, q: 0, AIC: 1222.61\n",
      "p : 2, d: 1, q: 1, AIC: -6.04\n"
     ]
    },
    {
     "name": "stderr",
     "output_type": "stream",
     "text": [
      "C:\\Users\\zinaw\\Anaconda3\\lib\\site-packages\\statsmodels\\base\\model.py:496: ConvergenceWarning: Maximum Likelihood optimization failed to converge. Check mle_retvals\n",
      "  \"Check mle_retvals\", ConvergenceWarning)\n"
     ]
    },
    {
     "name": "stdout",
     "output_type": "stream",
     "text": [
      "p : 2, d: 1, q: 2, AIC: -195.72\n",
      "p : 2, d: 2, q: 0, AIC: 2741.95\n",
      "p : 2, d: 2, q: 2, AIC: 144.30\n",
      "p : 3, d: 0, q: 0, AIC: -180.44\n",
      "p : 3, d: 0, q: 1, AIC: -218.82\n",
      "p : 3, d: 0, q: 2, AIC: -316.31\n",
      "p : 3, d: 1, q: 0, AIC: 1150.05\n"
     ]
    },
    {
     "name": "stderr",
     "output_type": "stream",
     "text": [
      "C:\\Users\\zinaw\\Anaconda3\\lib\\site-packages\\statsmodels\\base\\model.py:496: ConvergenceWarning: Maximum Likelihood optimization failed to converge. Check mle_retvals\n",
      "  \"Check mle_retvals\", ConvergenceWarning)\n"
     ]
    },
    {
     "name": "stdout",
     "output_type": "stream",
     "text": [
      "p : 3, d: 1, q: 1, AIC: -173.44\n"
     ]
    },
    {
     "name": "stderr",
     "output_type": "stream",
     "text": [
      "C:\\Users\\zinaw\\Anaconda3\\lib\\site-packages\\statsmodels\\tsa\\tsatools.py:628: RuntimeWarning: overflow encountered in exp\n",
      "  newparams = ((1-np.exp(-params))/(1+np.exp(-params))).copy()\n",
      "C:\\Users\\zinaw\\Anaconda3\\lib\\site-packages\\statsmodels\\tsa\\tsatools.py:628: RuntimeWarning: invalid value encountered in true_divide\n",
      "  newparams = ((1-np.exp(-params))/(1+np.exp(-params))).copy()\n",
      "C:\\Users\\zinaw\\Anaconda3\\lib\\site-packages\\statsmodels\\tsa\\tsatools.py:629: RuntimeWarning: overflow encountered in exp\n",
      "  tmp = ((1-np.exp(-params))/(1+np.exp(-params))).copy()\n",
      "C:\\Users\\zinaw\\Anaconda3\\lib\\site-packages\\statsmodels\\tsa\\tsatools.py:629: RuntimeWarning: invalid value encountered in true_divide\n",
      "  tmp = ((1-np.exp(-params))/(1+np.exp(-params))).copy()\n",
      "C:\\Users\\zinaw\\Anaconda3\\lib\\site-packages\\statsmodels\\base\\model.py:496: ConvergenceWarning: Maximum Likelihood optimization failed to converge. Check mle_retvals\n",
      "  \"Check mle_retvals\", ConvergenceWarning)\n"
     ]
    },
    {
     "name": "stdout",
     "output_type": "stream",
     "text": [
      "p : 3, d: 1, q: 2, AIC: -199.25\n",
      "p : 3, d: 2, q: 0, AIC: 2741.95\n"
     ]
    },
    {
     "name": "stderr",
     "output_type": "stream",
     "text": [
      "C:\\Users\\zinaw\\Anaconda3\\lib\\site-packages\\statsmodels\\base\\model.py:496: ConvergenceWarning: Maximum Likelihood optimization failed to converge. Check mle_retvals\n",
      "  \"Check mle_retvals\", ConvergenceWarning)\n"
     ]
    },
    {
     "name": "stdout",
     "output_type": "stream",
     "text": [
      "p : 3, d: 2, q: 2, AIC: -53.76\n",
      "p : 4, d: 0, q: 0, AIC: -216.97\n",
      "p : 4, d: 0, q: 1, AIC: -306.65\n",
      "p : 4, d: 0, q: 2, AIC: -314.34\n",
      "p : 4, d: 1, q: 0, AIC: 858.77\n"
     ]
    },
    {
     "name": "stderr",
     "output_type": "stream",
     "text": [
      "C:\\Users\\zinaw\\Anaconda3\\lib\\site-packages\\statsmodels\\base\\model.py:496: ConvergenceWarning: Maximum Likelihood optimization failed to converge. Check mle_retvals\n",
      "  \"Check mle_retvals\", ConvergenceWarning)\n"
     ]
    },
    {
     "name": "stdout",
     "output_type": "stream",
     "text": [
      "p : 4, d: 1, q: 1, AIC: -201.72\n",
      "p : 4, d: 1, q: 2, AIC: -94.73\n",
      "p : 4, d: 2, q: 0, AIC: 2706.44\n"
     ]
    },
    {
     "name": "stderr",
     "output_type": "stream",
     "text": [
      "C:\\Users\\zinaw\\Anaconda3\\lib\\site-packages\\statsmodels\\base\\model.py:496: ConvergenceWarning: Maximum Likelihood optimization failed to converge. Check mle_retvals\n",
      "  \"Check mle_retvals\", ConvergenceWarning)\n"
     ]
    },
    {
     "name": "stdout",
     "output_type": "stream",
     "text": [
      "p : 4, d: 2, q: 2, AIC: 615.09\n",
      "p : 5, d: 0, q: 0, AIC: -230.95\n",
      "p : 5, d: 0, q: 1, AIC: -307.64\n",
      "p : 5, d: 0, q: 2, AIC: -585.66\n",
      "p : 5, d: 1, q: 0, AIC: 635.95\n"
     ]
    },
    {
     "name": "stderr",
     "output_type": "stream",
     "text": [
      "C:\\Users\\zinaw\\Anaconda3\\lib\\site-packages\\statsmodels\\base\\model.py:496: ConvergenceWarning: Maximum Likelihood optimization failed to converge. Check mle_retvals\n",
      "  \"Check mle_retvals\", ConvergenceWarning)\n"
     ]
    },
    {
     "name": "stdout",
     "output_type": "stream",
     "text": [
      "p : 5, d: 1, q: 1, AIC: -223.63\n"
     ]
    },
    {
     "name": "stderr",
     "output_type": "stream",
     "text": [
      "C:\\Users\\zinaw\\Anaconda3\\lib\\site-packages\\statsmodels\\base\\model.py:496: ConvergenceWarning: Maximum Likelihood optimization failed to converge. Check mle_retvals\n",
      "  \"Check mle_retvals\", ConvergenceWarning)\n"
     ]
    },
    {
     "name": "stdout",
     "output_type": "stream",
     "text": [
      "p : 5, d: 1, q: 2, AIC: -101.83\n",
      "p : 5, d: 2, q: 0, AIC: 2488.17\n",
      "p : 5, d: 2, q: 2, AIC: 617.64\n",
      "sensor: L_T3\n",
      "p : 1, d: 0, q: 0, AIC: 7180.81\n",
      "p : 1, d: 0, q: 1, AIC: 1561.88\n",
      "p : 1, d: 0, q: 2, AIC: -845.22\n",
      "p : 1, d: 1, q: 0, AIC: 1656.18\n",
      "p : 1, d: 1, q: 1, AIC: 7188.35\n",
      "p : 1, d: 2, q: 0, AIC: 2692.09\n",
      "p : 2, d: 0, q: 0, AIC: -4550.17\n",
      "p : 2, d: 0, q: 1, AIC: -6946.85\n",
      "p : 2, d: 0, q: 2, AIC: -7338.44\n",
      "p : 2, d: 1, q: 0, AIC: 238.06\n",
      "p : 2, d: 2, q: 0, AIC: 2645.15\n",
      "p : 3, d: 0, q: 0, AIC: -5094.42\n",
      "p : 3, d: 0, q: 1, AIC: -7172.93\n",
      "p : 3, d: 0, q: 2, AIC: -7394.31\n",
      "p : 3, d: 1, q: 0, AIC: -214.99\n",
      "p : 3, d: 2, q: 0, AIC: 2643.91\n",
      "p : 4, d: 0, q: 0, AIC: -6837.64\n",
      "p : 4, d: 0, q: 1, AIC: -7590.83\n",
      "p : 4, d: 0, q: 2, AIC: -7593.42\n",
      "p : 4, d: 1, q: 0, AIC: -1854.64\n"
     ]
    },
    {
     "name": "stderr",
     "output_type": "stream",
     "text": [
      "C:\\Users\\zinaw\\Anaconda3\\lib\\site-packages\\statsmodels\\base\\model.py:496: ConvergenceWarning: Maximum Likelihood optimization failed to converge. Check mle_retvals\n",
      "  \"Check mle_retvals\", ConvergenceWarning)\n"
     ]
    },
    {
     "name": "stdout",
     "output_type": "stream",
     "text": [
      "p : 4, d: 1, q: 2, AIC: -7489.52\n",
      "p : 4, d: 2, q: 0, AIC: 2523.66\n",
      "p : 5, d: 0, q: 0, AIC: -7399.46\n",
      "p : 5, d: 0, q: 1, AIC: -7620.45\n",
      "p : 5, d: 0, q: 2, AIC: -7710.38\n",
      "p : 5, d: 1, q: 0, AIC: -4091.21\n"
     ]
    },
    {
     "name": "stderr",
     "output_type": "stream",
     "text": [
      "C:\\Users\\zinaw\\Anaconda3\\lib\\site-packages\\statsmodels\\base\\model.py:496: ConvergenceWarning: Maximum Likelihood optimization failed to converge. Check mle_retvals\n",
      "  \"Check mle_retvals\", ConvergenceWarning)\n"
     ]
    },
    {
     "name": "stdout",
     "output_type": "stream",
     "text": [
      "p : 5, d: 1, q: 2, AIC: -7380.73\n",
      "p : 5, d: 2, q: 0, AIC: 368.82\n",
      "sensor: L_T4\n",
      "p : 1, d: 0, q: 0, AIC: 9551.25\n",
      "p : 1, d: 0, q: 1, AIC: 8307.28\n",
      "p : 1, d: 0, q: 2, AIC: 8234.73\n",
      "p : 1, d: 1, q: 0, AIC: 11266.03\n",
      "p : 1, d: 1, q: 1, AIC: 9560.18\n",
      "p : 1, d: 1, q: 2, AIC: 8316.55\n",
      "p : 1, d: 2, q: 0, AIC: 16175.23\n",
      "p : 2, d: 0, q: 0, AIC: 8622.05\n",
      "p : 2, d: 0, q: 1, AIC: 8283.15\n",
      "p : 2, d: 0, q: 2, AIC: 8229.37\n",
      "p : 2, d: 1, q: 0, AIC: 9623.14\n"
     ]
    },
    {
     "name": "stderr",
     "output_type": "stream",
     "text": [
      "C:\\Users\\zinaw\\Anaconda3\\lib\\site-packages\\statsmodels\\base\\model.py:496: ConvergenceWarning: Maximum Likelihood optimization failed to converge. Check mle_retvals\n",
      "  \"Check mle_retvals\", ConvergenceWarning)\n"
     ]
    },
    {
     "name": "stdout",
     "output_type": "stream",
     "text": [
      "p : 2, d: 1, q: 1, AIC: 8632.79\n",
      "p : 2, d: 1, q: 2, AIC: 8294.18\n",
      "p : 2, d: 2, q: 0, AIC: 13799.27\n",
      "p : 3, d: 0, q: 0, AIC: 8241.10\n",
      "p : 3, d: 0, q: 1, AIC: 8217.24\n",
      "p : 3, d: 0, q: 2, AIC: 8180.32\n",
      "p : 3, d: 1, q: 0, AIC: 9564.68\n"
     ]
    },
    {
     "name": "stderr",
     "output_type": "stream",
     "text": [
      "C:\\Users\\zinaw\\Anaconda3\\lib\\site-packages\\statsmodels\\base\\model.py:496: ConvergenceWarning: Maximum Likelihood optimization failed to converge. Check mle_retvals\n",
      "  \"Check mle_retvals\", ConvergenceWarning)\n"
     ]
    },
    {
     "name": "stdout",
     "output_type": "stream",
     "text": [
      "p : 3, d: 1, q: 1, AIC: 8250.24\n"
     ]
    },
    {
     "name": "stderr",
     "output_type": "stream",
     "text": [
      "C:\\Users\\zinaw\\Anaconda3\\lib\\site-packages\\statsmodels\\base\\model.py:496: ConvergenceWarning: Maximum Likelihood optimization failed to converge. Check mle_retvals\n",
      "  \"Check mle_retvals\", ConvergenceWarning)\n"
     ]
    },
    {
     "name": "stdout",
     "output_type": "stream",
     "text": [
      "p : 3, d: 1, q: 2, AIC: 8237.14\n",
      "p : 3, d: 2, q: 0, AIC: 12707.96\n",
      "p : 4, d: 0, q: 0, AIC: 8194.68\n",
      "p : 4, d: 0, q: 1, AIC: 8126.12\n",
      "p : 4, d: 0, q: 2, AIC: 8104.89\n",
      "p : 4, d: 1, q: 0, AIC: 9527.72\n"
     ]
    },
    {
     "name": "stderr",
     "output_type": "stream",
     "text": [
      "C:\\Users\\zinaw\\Anaconda3\\lib\\site-packages\\statsmodels\\base\\model.py:496: ConvergenceWarning: Maximum Likelihood optimization failed to converge. Check mle_retvals\n",
      "  \"Check mle_retvals\", ConvergenceWarning)\n"
     ]
    },
    {
     "name": "stdout",
     "output_type": "stream",
     "text": [
      "p : 4, d: 1, q: 1, AIC: 8204.92\n"
     ]
    },
    {
     "name": "stderr",
     "output_type": "stream",
     "text": [
      "C:\\Users\\zinaw\\Anaconda3\\lib\\site-packages\\statsmodels\\base\\model.py:496: ConvergenceWarning: Maximum Likelihood optimization failed to converge. Check mle_retvals\n",
      "  \"Check mle_retvals\", ConvergenceWarning)\n"
     ]
    },
    {
     "name": "stdout",
     "output_type": "stream",
     "text": [
      "p : 4, d: 1, q: 2, AIC: 8162.73\n",
      "p : 4, d: 2, q: 0, AIC: 12270.68\n",
      "p : 5, d: 0, q: 0, AIC: 8122.55\n",
      "p : 5, d: 0, q: 1, AIC: 8108.63\n"
     ]
    },
    {
     "name": "stderr",
     "output_type": "stream",
     "text": [
      "C:\\Users\\zinaw\\Anaconda3\\lib\\site-packages\\statsmodels\\base\\model.py:496: ConvergenceWarning: Maximum Likelihood optimization failed to converge. Check mle_retvals\n",
      "  \"Check mle_retvals\", ConvergenceWarning)\n"
     ]
    },
    {
     "name": "stdout",
     "output_type": "stream",
     "text": [
      "p : 5, d: 0, q: 2, AIC: 7958.93\n",
      "p : 5, d: 1, q: 0, AIC: 9402.65\n"
     ]
    },
    {
     "name": "stderr",
     "output_type": "stream",
     "text": [
      "C:\\Users\\zinaw\\Anaconda3\\lib\\site-packages\\statsmodels\\base\\model.py:496: ConvergenceWarning: Maximum Likelihood optimization failed to converge. Check mle_retvals\n",
      "  \"Check mle_retvals\", ConvergenceWarning)\n"
     ]
    },
    {
     "name": "stdout",
     "output_type": "stream",
     "text": [
      "p : 5, d: 1, q: 1, AIC: 8137.34\n",
      "p : 5, d: 1, q: 2, AIC: 8158.48\n",
      "p : 5, d: 2, q: 0, AIC: 11889.57\n",
      "sensor: L_T5\n",
      "p : 1, d: 0, q: 0, AIC: 11252.56\n",
      "p : 1, d: 0, q: 1, AIC: 6505.37\n",
      "p : 1, d: 0, q: 2, AIC: 4874.61\n",
      "p : 1, d: 1, q: 0, AIC: 7932.25\n",
      "p : 1, d: 1, q: 1, AIC: 7068.61\n",
      "p : 1, d: 2, q: 0, AIC: 9534.14\n",
      "p : 2, d: 0, q: 0, AIC: 1236.81\n",
      "p : 2, d: 0, q: 1, AIC: -211.26\n",
      "p : 2, d: 0, q: 2, AIC: -548.06\n",
      "p : 2, d: 1, q: 0, AIC: 6209.10\n",
      "p : 2, d: 2, q: 0, AIC: 9474.20\n",
      "p : 3, d: 0, q: 0, AIC: 718.91\n",
      "p : 3, d: 0, q: 1, AIC: -494.19\n",
      "p : 3, d: 0, q: 2, AIC: -546.90\n",
      "p : 3, d: 1, q: 0, AIC: 5138.42\n",
      "p : 3, d: 2, q: 0, AIC: 9077.56\n",
      "p : 4, d: 0, q: 0, AIC: 215.95\n",
      "p : 4, d: 0, q: 1, AIC: -588.62\n",
      "p : 4, d: 0, q: 2, AIC: -637.88\n",
      "p : 4, d: 1, q: 0, AIC: 4343.42\n",
      "p : 4, d: 2, q: 0, AIC: 8524.26\n",
      "p : 5, d: 0, q: 0, AIC: -289.07\n",
      "p : 5, d: 0, q: 1, AIC: -654.86\n",
      "p : 5, d: 0, q: 2, AIC: -658.37\n",
      "p : 5, d: 1, q: 0, AIC: 3565.96\n",
      "p : 5, d: 2, q: 0, AIC: 8071.42\n",
      "sensor: L_T6\n",
      "p : 1, d: 0, q: 0, AIC: -9261.88\n",
      "p : 1, d: 0, q: 1, AIC: -11783.81\n",
      "p : 1, d: 0, q: 2, AIC: -12284.18\n",
      "p : 1, d: 1, q: 0, AIC: -7732.58\n"
     ]
    },
    {
     "name": "stderr",
     "output_type": "stream",
     "text": [
      "C:\\Users\\zinaw\\Anaconda3\\lib\\site-packages\\statsmodels\\base\\model.py:496: ConvergenceWarning: Maximum Likelihood optimization failed to converge. Check mle_retvals\n",
      "  \"Check mle_retvals\", ConvergenceWarning)\n"
     ]
    },
    {
     "name": "stdout",
     "output_type": "stream",
     "text": [
      "p : 1, d: 1, q: 1, AIC: -9250.67\n",
      "p : 1, d: 2, q: 0, AIC: -3492.72\n",
      "p : 2, d: 0, q: 0, AIC: -12212.72\n",
      "p : 2, d: 0, q: 1, AIC: -12499.92\n",
      "p : 2, d: 0, q: 2, AIC: -12509.16\n",
      "p : 2, d: 1, q: 0, AIC: -10239.70\n",
      "p : 2, d: 1, q: 1, AIC: -12198.42\n",
      "p : 2, d: 1, q: 2, AIC: -12482.41\n",
      "p : 2, d: 2, q: 0, AIC: -5734.19\n",
      "p : 3, d: 0, q: 0, AIC: -12450.75\n",
      "p : 3, d: 0, q: 1, AIC: -12499.25\n",
      "p : 3, d: 0, q: 2, AIC: -12702.56\n",
      "p : 3, d: 1, q: 0, AIC: -10395.10\n",
      "p : 3, d: 2, q: 0, AIC: -6762.63\n",
      "p : 4, d: 0, q: 0, AIC: -12566.38\n",
      "p : 4, d: 0, q: 1, AIC: -12762.37\n",
      "p : 4, d: 0, q: 2, AIC: -12765.84\n",
      "p : 4, d: 1, q: 0, AIC: -10555.05\n",
      "p : 4, d: 2, q: 0, AIC: -7214.73\n",
      "p : 5, d: 0, q: 0, AIC: -12667.02\n",
      "p : 5, d: 0, q: 1, AIC: -12768.61\n",
      "p : 5, d: 0, q: 2, AIC: -12773.41\n",
      "p : 5, d: 1, q: 0, AIC: -10893.16\n"
     ]
    },
    {
     "name": "stderr",
     "output_type": "stream",
     "text": [
      "C:\\Users\\zinaw\\Anaconda3\\lib\\site-packages\\statsmodels\\base\\model.py:496: ConvergenceWarning: Maximum Likelihood optimization failed to converge. Check mle_retvals\n",
      "  \"Check mle_retvals\", ConvergenceWarning)\n"
     ]
    },
    {
     "name": "stdout",
     "output_type": "stream",
     "text": [
      "p : 5, d: 1, q: 1, AIC: -12632.35\n",
      "p : 5, d: 2, q: 0, AIC: -7777.63\n",
      "sensor: L_T7\n",
      "p : 1, d: 0, q: 0, AIC: 16381.31\n",
      "p : 1, d: 0, q: 1, AIC: 14436.16\n",
      "p : 1, d: 0, q: 2, AIC: 14155.03\n",
      "p : 1, d: 1, q: 0, AIC: 17527.37\n",
      "p : 1, d: 1, q: 1, AIC: 16893.33\n",
      "p : 1, d: 2, q: 0, AIC: 21686.23\n",
      "p : 2, d: 0, q: 0, AIC: 14280.37\n",
      "p : 2, d: 0, q: 1, AIC: 14101.38\n",
      "p : 2, d: 0, q: 2, AIC: 14076.03\n",
      "p : 2, d: 1, q: 0, AIC: 15898.10\n",
      "p : 2, d: 1, q: 1, AIC: 14283.77\n"
     ]
    },
    {
     "name": "stderr",
     "output_type": "stream",
     "text": [
      "C:\\Users\\zinaw\\Anaconda3\\lib\\site-packages\\statsmodels\\base\\model.py:496: ConvergenceWarning: Maximum Likelihood optimization failed to converge. Check mle_retvals\n",
      "  \"Check mle_retvals\", ConvergenceWarning)\n"
     ]
    },
    {
     "name": "stdout",
     "output_type": "stream",
     "text": [
      "p : 2, d: 1, q: 2, AIC: 14105.57\n",
      "p : 2, d: 2, q: 0, AIC: 20192.59\n",
      "p : 3, d: 0, q: 0, AIC: 14089.01\n",
      "p : 3, d: 0, q: 1, AIC: 14088.92\n",
      "p : 3, d: 0, q: 2, AIC: 14076.70\n",
      "p : 3, d: 1, q: 0, AIC: 15643.73\n"
     ]
    },
    {
     "name": "stderr",
     "output_type": "stream",
     "text": [
      "C:\\Users\\zinaw\\Anaconda3\\lib\\site-packages\\statsmodels\\base\\model.py:496: ConvergenceWarning: Maximum Likelihood optimization failed to converge. Check mle_retvals\n",
      "  \"Check mle_retvals\", ConvergenceWarning)\n"
     ]
    },
    {
     "name": "stdout",
     "output_type": "stream",
     "text": [
      "p : 3, d: 1, q: 1, AIC: 14100.10\n"
     ]
    },
    {
     "name": "stderr",
     "output_type": "stream",
     "text": [
      "C:\\Users\\zinaw\\Anaconda3\\lib\\site-packages\\statsmodels\\base\\model.py:496: ConvergenceWarning: Maximum Likelihood optimization failed to converge. Check mle_retvals\n",
      "  \"Check mle_retvals\", ConvergenceWarning)\n"
     ]
    },
    {
     "name": "stdout",
     "output_type": "stream",
     "text": [
      "p : 3, d: 1, q: 2, AIC: 14118.23\n",
      "p : 3, d: 2, q: 0, AIC: 19103.00\n",
      "p : 4, d: 0, q: 0, AIC: 14087.08\n",
      "p : 4, d: 0, q: 1, AIC: 14061.35\n",
      "p : 4, d: 0, q: 2, AIC: 14043.00\n",
      "p : 4, d: 1, q: 0, AIC: 15545.79\n"
     ]
    },
    {
     "name": "stderr",
     "output_type": "stream",
     "text": [
      "C:\\Users\\zinaw\\Anaconda3\\lib\\site-packages\\statsmodels\\base\\model.py:496: ConvergenceWarning: Maximum Likelihood optimization failed to converge. Check mle_retvals\n",
      "  \"Check mle_retvals\", ConvergenceWarning)\n"
     ]
    },
    {
     "name": "stdout",
     "output_type": "stream",
     "text": [
      "p : 4, d: 1, q: 1, AIC: 14106.73\n"
     ]
    },
    {
     "name": "stderr",
     "output_type": "stream",
     "text": [
      "C:\\Users\\zinaw\\Anaconda3\\lib\\site-packages\\statsmodels\\base\\model.py:496: ConvergenceWarning: Maximum Likelihood optimization failed to converge. Check mle_retvals\n",
      "  \"Check mle_retvals\", ConvergenceWarning)\n"
     ]
    },
    {
     "name": "stdout",
     "output_type": "stream",
     "text": [
      "p : 4, d: 1, q: 2, AIC: 14120.03\n",
      "p : 4, d: 2, q: 0, AIC: 18548.15\n",
      "p : 5, d: 0, q: 0, AIC: 14048.89\n",
      "p : 5, d: 0, q: 1, AIC: 14044.67\n",
      "p : 5, d: 0, q: 2, AIC: 14044.29\n",
      "p : 5, d: 1, q: 0, AIC: 15400.58\n"
     ]
    },
    {
     "name": "stderr",
     "output_type": "stream",
     "text": [
      "C:\\Users\\zinaw\\Anaconda3\\lib\\site-packages\\statsmodels\\base\\model.py:496: ConvergenceWarning: Maximum Likelihood optimization failed to converge. Check mle_retvals\n",
      "  \"Check mle_retvals\", ConvergenceWarning)\n"
     ]
    },
    {
     "name": "stdout",
     "output_type": "stream",
     "text": [
      "p : 5, d: 1, q: 1, AIC: 14053.30\n",
      "p : 5, d: 1, q: 2, AIC: 14083.49\n",
      "p : 5, d: 2, q: 0, AIC: 18232.59\n",
      "{'L_T1': [5, 0, 1, -13413.792095647947, DATETIME\n",
      "2014-01-06 00:00:00   -2.168450\n",
      "2014-01-06 01:00:00   -0.138674\n",
      "2014-01-06 02:00:00   -0.088993\n",
      "2014-01-06 03:00:00    0.018382\n",
      "2014-01-06 04:00:00    0.046504\n",
      "2014-01-06 05:00:00    0.091768\n",
      "2014-01-06 06:00:00    0.054756\n",
      "2014-01-06 07:00:00   -0.157205\n",
      "2014-01-06 08:00:00   -0.099089\n",
      "2014-01-06 09:00:00   -0.094301\n",
      "2014-01-06 10:00:00   -0.099769\n",
      "2014-01-06 11:00:00   -0.111306\n",
      "2014-01-06 12:00:00   -0.002069\n",
      "2014-01-06 13:00:00   -0.040772\n",
      "2014-01-06 14:00:00   -0.176898\n",
      "2014-01-06 15:00:00    0.011188\n",
      "2014-01-06 16:00:00    0.046235\n",
      "2014-01-06 17:00:00   -0.088992\n",
      "2014-01-06 18:00:00    0.019967\n",
      "2014-01-06 19:00:00    0.000298\n",
      "2014-01-06 20:00:00   -0.137324\n",
      "2014-01-06 21:00:00    0.125828\n",
      "2014-01-06 22:00:00   -0.077034\n",
      "2014-01-06 23:00:00   -0.037319\n",
      "2014-01-07 00:00:00    0.050741\n",
      "2014-01-07 01:00:00    0.070038\n",
      "2014-01-07 02:00:00    0.101997\n",
      "2014-01-07 03:00:00   -0.013738\n",
      "2014-01-07 04:00:00   -0.061352\n",
      "2014-01-07 05:00:00    0.140327\n",
      "                         ...   \n",
      "2015-01-04 19:00:00   -0.037791\n",
      "2015-01-04 20:00:00    0.026975\n",
      "2015-01-04 21:00:00   -0.007564\n",
      "2015-01-04 22:00:00   -0.038225\n",
      "2015-01-04 23:00:00   -0.160971\n",
      "2015-01-05 00:00:00   -0.071510\n",
      "2015-01-05 01:00:00   -0.040886\n",
      "2015-01-05 02:00:00   -0.130239\n",
      "2015-01-05 03:00:00    0.061418\n",
      "2015-01-05 04:00:00    0.014665\n",
      "2015-01-05 05:00:00    0.123945\n",
      "2015-01-05 06:00:00   -0.032105\n",
      "2015-01-05 07:00:00    0.029410\n",
      "2015-01-05 08:00:00    0.058125\n",
      "2015-01-05 09:00:00   -0.122789\n",
      "2015-01-05 10:00:00    0.014781\n",
      "2015-01-05 11:00:00   -0.014070\n",
      "2015-01-05 12:00:00    0.045149\n",
      "2015-01-05 13:00:00    0.140876\n",
      "2015-01-05 14:00:00    0.003223\n",
      "2015-01-05 15:00:00   -0.414991\n",
      "2015-01-05 16:00:00    0.237998\n",
      "2015-01-05 17:00:00   -0.136071\n",
      "2015-01-05 18:00:00    0.117528\n",
      "2015-01-05 19:00:00   -0.048654\n",
      "2015-01-05 20:00:00   -0.098173\n",
      "2015-01-05 21:00:00    0.051251\n",
      "2015-01-05 22:00:00   -0.085531\n",
      "2015-01-05 23:00:00   -0.045222\n",
      "2015-01-06 00:00:00   -0.033097\n",
      "Length: 8761, dtype: float64, 1.9536856732477936], 'L_T2': [5, 0, 2, -585.6618691432959, DATETIME\n",
      "2014-01-06 00:00:00   -1.236726\n",
      "2014-01-06 01:00:00   -0.100859\n",
      "2014-01-06 02:00:00   -0.105335\n",
      "2014-01-06 03:00:00   -0.062561\n",
      "2014-01-06 04:00:00   -0.050832\n",
      "2014-01-06 05:00:00    0.515042\n",
      "2014-01-06 06:00:00    0.082693\n",
      "2014-01-06 07:00:00   -0.238504\n",
      "2014-01-06 08:00:00    0.098520\n",
      "2014-01-06 09:00:00    0.172648\n",
      "2014-01-06 10:00:00    0.227747\n",
      "2014-01-06 11:00:00   -0.089515\n",
      "2014-01-06 12:00:00    0.193603\n",
      "2014-01-06 13:00:00   -0.057766\n",
      "2014-01-06 14:00:00    0.096184\n",
      "2014-01-06 15:00:00    0.068871\n",
      "2014-01-06 16:00:00    0.108629\n",
      "2014-01-06 17:00:00    0.159882\n",
      "2014-01-06 18:00:00    0.365628\n",
      "2014-01-06 19:00:00    0.400098\n",
      "2014-01-06 20:00:00   -0.166978\n",
      "2014-01-06 21:00:00   -0.477369\n",
      "2014-01-06 22:00:00    0.032423\n",
      "2014-01-06 23:00:00   -0.165306\n",
      "2014-01-07 00:00:00   -0.273600\n",
      "2014-01-07 01:00:00   -0.060368\n",
      "2014-01-07 02:00:00   -0.193629\n",
      "2014-01-07 03:00:00    0.046024\n",
      "2014-01-07 04:00:00    0.452753\n",
      "2014-01-07 05:00:00    0.160468\n",
      "                         ...   \n",
      "2015-01-04 19:00:00   -0.041389\n",
      "2015-01-04 20:00:00   -0.010418\n",
      "2015-01-04 21:00:00    0.032079\n",
      "2015-01-04 22:00:00    0.100236\n",
      "2015-01-04 23:00:00   -0.191853\n",
      "2015-01-05 00:00:00    0.144098\n",
      "2015-01-05 01:00:00    0.049633\n",
      "2015-01-05 02:00:00    0.096517\n",
      "2015-01-05 03:00:00    0.460948\n",
      "2015-01-05 04:00:00   -0.091533\n",
      "2015-01-05 05:00:00    0.219681\n",
      "2015-01-05 06:00:00    0.458844\n",
      "2015-01-05 07:00:00   -0.553476\n",
      "2015-01-05 08:00:00   -0.146683\n",
      "2015-01-05 09:00:00    0.018874\n",
      "2015-01-05 10:00:00   -0.033129\n",
      "2015-01-05 11:00:00   -0.285832\n",
      "2015-01-05 12:00:00   -0.131669\n",
      "2015-01-05 13:00:00   -0.240436\n",
      "2015-01-05 14:00:00   -0.108177\n",
      "2015-01-05 15:00:00    0.432403\n",
      "2015-01-05 16:00:00   -0.066991\n",
      "2015-01-05 17:00:00   -0.017338\n",
      "2015-01-05 18:00:00    0.122720\n",
      "2015-01-05 19:00:00   -0.028719\n",
      "2015-01-05 20:00:00   -0.192012\n",
      "2015-01-05 21:00:00    0.061727\n",
      "2015-01-05 22:00:00   -0.007307\n",
      "2015-01-05 23:00:00   -0.092388\n",
      "2015-01-06 00:00:00    0.117292\n",
      "Length: 8761, dtype: float64, 1.9939464107123954], 'L_T3': [5, 0, 2, -7710.384832075793, DATETIME\n",
      "2014-01-06 00:00:00   -1.010848\n",
      "2014-01-06 01:00:00    0.293306\n",
      "2014-01-06 02:00:00   -0.052995\n",
      "2014-01-06 03:00:00    0.041807\n",
      "2014-01-06 04:00:00    0.158958\n",
      "2014-01-06 05:00:00   -0.257838\n",
      "2014-01-06 06:00:00    0.065553\n",
      "2014-01-06 07:00:00    0.060690\n",
      "2014-01-06 08:00:00    0.136243\n",
      "2014-01-06 09:00:00    0.212006\n",
      "2014-01-06 10:00:00   -0.064282\n",
      "2014-01-06 11:00:00   -0.095379\n",
      "2014-01-06 12:00:00   -0.232459\n",
      "2014-01-06 13:00:00    0.241318\n",
      "2014-01-06 14:00:00   -0.007557\n",
      "2014-01-06 15:00:00    0.013689\n",
      "2014-01-06 16:00:00    0.097185\n",
      "2014-01-06 17:00:00    0.003336\n",
      "2014-01-06 18:00:00   -0.276600\n",
      "2014-01-06 19:00:00   -0.061060\n",
      "2014-01-06 20:00:00    0.076577\n",
      "2014-01-06 21:00:00   -0.127167\n",
      "2014-01-06 22:00:00   -0.139909\n",
      "2014-01-06 23:00:00   -0.167175\n",
      "2014-01-07 00:00:00    0.227268\n",
      "2014-01-07 01:00:00   -0.077093\n",
      "2014-01-07 02:00:00    0.049841\n",
      "2014-01-07 03:00:00    0.057487\n",
      "2014-01-07 04:00:00    0.090124\n",
      "2014-01-07 05:00:00   -0.160955\n",
      "                         ...   \n",
      "2015-01-04 19:00:00   -0.030364\n",
      "2015-01-04 20:00:00   -0.076605\n",
      "2015-01-04 21:00:00   -0.116526\n",
      "2015-01-04 22:00:00   -0.225366\n",
      "2015-01-04 23:00:00    0.373996\n",
      "2015-01-05 00:00:00    0.020542\n",
      "2015-01-05 01:00:00    0.161584\n",
      "2015-01-05 02:00:00    0.162222\n",
      "2015-01-05 03:00:00   -0.085816\n",
      "2015-01-05 04:00:00   -0.119348\n",
      "2015-01-05 05:00:00    0.039461\n",
      "2015-01-05 06:00:00    0.162916\n",
      "2015-01-05 07:00:00    0.248307\n",
      "2015-01-05 08:00:00    0.003893\n",
      "2015-01-05 09:00:00   -0.037612\n",
      "2015-01-05 10:00:00   -0.357619\n",
      "2015-01-05 11:00:00    0.279058\n",
      "2015-01-05 12:00:00   -0.036456\n",
      "2015-01-05 13:00:00    0.052241\n",
      "2015-01-05 14:00:00    0.008410\n",
      "2015-01-05 15:00:00    0.175568\n",
      "2015-01-05 16:00:00   -0.205889\n",
      "2015-01-05 17:00:00   -0.103617\n",
      "2015-01-05 18:00:00   -0.025628\n",
      "2015-01-05 19:00:00   -0.036844\n",
      "2015-01-05 20:00:00    0.102439\n",
      "2015-01-05 21:00:00   -0.257801\n",
      "2015-01-05 22:00:00   -0.191053\n",
      "2015-01-05 23:00:00    0.102204\n",
      "2015-01-06 00:00:00   -0.099210\n",
      "Length: 8761, dtype: float64, 1.9997772274949406], 'L_T4': [5, 0, 2, 7958.926153540484, DATETIME\n",
      "2014-01-06 00:00:00   -0.765344\n",
      "2014-01-06 01:00:00   -0.240171\n",
      "2014-01-06 02:00:00    0.075244\n",
      "2014-01-06 03:00:00    0.289439\n",
      "2014-01-06 04:00:00    0.712974\n",
      "2014-01-06 05:00:00   -0.220566\n",
      "2014-01-06 06:00:00   -0.528698\n",
      "2014-01-06 07:00:00    0.464236\n",
      "2014-01-06 08:00:00    0.034132\n",
      "2014-01-06 09:00:00    0.472627\n",
      "2014-01-06 10:00:00   -0.990933\n",
      "2014-01-06 11:00:00    0.186378\n",
      "2014-01-06 12:00:00   -0.143852\n",
      "2014-01-06 13:00:00    0.096678\n",
      "2014-01-06 14:00:00    0.328745\n",
      "2014-01-06 15:00:00    0.093732\n",
      "2014-01-06 16:00:00    0.333607\n",
      "2014-01-06 17:00:00    0.318162\n",
      "2014-01-06 18:00:00    0.386096\n",
      "2014-01-06 19:00:00   -0.636478\n",
      "2014-01-06 20:00:00   -0.109921\n",
      "2014-01-06 21:00:00   -0.417278\n",
      "2014-01-06 22:00:00   -0.286805\n",
      "2014-01-06 23:00:00   -0.119510\n",
      "2014-01-07 00:00:00   -0.274974\n",
      "2014-01-07 01:00:00   -0.004662\n",
      "2014-01-07 02:00:00   -0.120165\n",
      "2014-01-07 03:00:00    0.266503\n",
      "2014-01-07 04:00:00    0.651283\n",
      "2014-01-07 05:00:00   -0.177807\n",
      "                         ...   \n",
      "2015-01-04 19:00:00   -0.254235\n",
      "2015-01-04 20:00:00   -0.035987\n",
      "2015-01-04 21:00:00   -0.197047\n",
      "2015-01-04 22:00:00    0.323070\n",
      "2015-01-04 23:00:00    0.201618\n",
      "2015-01-05 00:00:00    0.475316\n",
      "2015-01-05 01:00:00    0.390681\n",
      "2015-01-05 02:00:00    0.145006\n",
      "2015-01-05 03:00:00   -0.848301\n",
      "2015-01-05 04:00:00    0.493040\n",
      "2015-01-05 05:00:00    0.359428\n",
      "2015-01-05 06:00:00   -0.581571\n",
      "2015-01-05 07:00:00   -0.164041\n",
      "2015-01-05 08:00:00    0.252645\n",
      "2015-01-05 09:00:00    0.213795\n",
      "2015-01-05 10:00:00    0.156962\n",
      "2015-01-05 11:00:00    0.234694\n",
      "2015-01-05 12:00:00    0.094104\n",
      "2015-01-05 13:00:00    0.295874\n",
      "2015-01-05 14:00:00    0.146931\n",
      "2015-01-05 15:00:00    0.175190\n",
      "2015-01-05 16:00:00    0.222535\n",
      "2015-01-05 17:00:00    0.275528\n",
      "2015-01-05 18:00:00   -0.293404\n",
      "2015-01-05 19:00:00   -0.502557\n",
      "2015-01-05 20:00:00    0.140579\n",
      "2015-01-05 21:00:00   -0.390106\n",
      "2015-01-05 22:00:00   -0.052643\n",
      "2015-01-05 23:00:00   -0.131411\n",
      "2015-01-06 00:00:00   -0.398937\n",
      "Length: 8761, dtype: float64, 1.968354425898779], 'L_T5': [5, 0, 2, -658.3719892841618, DATETIME\n",
      "2014-01-06 00:00:00   -0.092005\n",
      "2014-01-06 01:00:00    0.450086\n",
      "2014-01-06 02:00:00    0.211727\n",
      "2014-01-06 03:00:00    0.351561\n",
      "2014-01-06 04:00:00   -0.198508\n",
      "2014-01-06 05:00:00    0.346051\n",
      "2014-01-06 06:00:00    0.255158\n",
      "2014-01-06 07:00:00    0.018749\n",
      "2014-01-06 08:00:00   -0.190531\n",
      "2014-01-06 09:00:00    0.043240\n",
      "2014-01-06 10:00:00    0.091224\n",
      "2014-01-06 11:00:00   -0.196267\n",
      "2014-01-06 12:00:00   -0.041965\n",
      "2014-01-06 13:00:00   -0.085580\n",
      "2014-01-06 14:00:00    0.197826\n",
      "2014-01-06 15:00:00    0.184256\n",
      "2014-01-06 16:00:00   -0.266695\n",
      "2014-01-06 17:00:00    0.041042\n",
      "2014-01-06 18:00:00   -0.317086\n",
      "2014-01-06 19:00:00    0.104817\n",
      "2014-01-06 20:00:00    0.111044\n",
      "2014-01-06 21:00:00   -0.170276\n",
      "2014-01-06 22:00:00   -0.242745\n",
      "2014-01-06 23:00:00   -0.153257\n",
      "2014-01-07 00:00:00    0.005077\n",
      "2014-01-07 01:00:00    0.225044\n",
      "2014-01-07 02:00:00    0.065467\n",
      "2014-01-07 03:00:00   -0.058775\n",
      "2014-01-07 04:00:00    0.145672\n",
      "2014-01-07 05:00:00    0.160207\n",
      "                         ...   \n",
      "2015-01-04 19:00:00    0.615302\n",
      "2015-01-04 20:00:00   -0.042461\n",
      "2015-01-04 21:00:00   -0.077185\n",
      "2015-01-04 22:00:00   -0.070965\n",
      "2015-01-04 23:00:00    0.196561\n",
      "2015-01-05 00:00:00    0.175211\n",
      "2015-01-05 01:00:00   -0.112696\n",
      "2015-01-05 02:00:00    0.045731\n",
      "2015-01-05 03:00:00    0.145212\n",
      "2015-01-05 04:00:00    0.191765\n",
      "2015-01-05 05:00:00   -0.210000\n",
      "2015-01-05 06:00:00    0.046586\n",
      "2015-01-05 07:00:00    0.055558\n",
      "2015-01-05 08:00:00   -0.352706\n",
      "2015-01-05 09:00:00    0.254748\n",
      "2015-01-05 10:00:00   -0.070020\n",
      "2015-01-05 11:00:00   -0.067342\n",
      "2015-01-05 12:00:00   -0.016930\n",
      "2015-01-05 13:00:00   -0.009766\n",
      "2015-01-05 14:00:00    0.159628\n",
      "2015-01-05 15:00:00    0.165632\n",
      "2015-01-05 16:00:00   -0.343724\n",
      "2015-01-05 17:00:00    0.004232\n",
      "2015-01-05 18:00:00   -0.180888\n",
      "2015-01-05 19:00:00   -0.043147\n",
      "2015-01-05 20:00:00    0.056533\n",
      "2015-01-05 21:00:00   -0.164095\n",
      "2015-01-05 22:00:00   -0.310841\n",
      "2015-01-05 23:00:00   -0.145776\n",
      "2015-01-06 00:00:00   -0.061388\n",
      "Length: 8761, dtype: float64, 2.0013246116966066], 'L_T6': [5, 0, 2, -12773.414996835843, DATETIME\n",
      "2014-01-06 00:00:00   -0.053614\n",
      "2014-01-06 01:00:00    0.156329\n",
      "2014-01-06 02:00:00   -0.012812\n",
      "2014-01-06 03:00:00    0.093829\n",
      "2014-01-06 04:00:00    0.054627\n",
      "2014-01-06 05:00:00   -0.110451\n",
      "2014-01-06 06:00:00   -0.179459\n",
      "2014-01-06 07:00:00    0.036388\n",
      "2014-01-06 08:00:00    0.046771\n",
      "2014-01-06 09:00:00    0.020685\n",
      "2014-01-06 10:00:00    0.053094\n",
      "2014-01-06 11:00:00    0.065822\n",
      "2014-01-06 12:00:00    0.053809\n",
      "2014-01-06 13:00:00    0.068005\n",
      "2014-01-06 14:00:00    0.076775\n",
      "2014-01-06 15:00:00    0.083272\n",
      "2014-01-06 16:00:00    0.088680\n",
      "2014-01-06 17:00:00    0.093457\n",
      "2014-01-06 18:00:00    0.055055\n",
      "2014-01-06 19:00:00   -0.280067\n",
      "2014-01-06 20:00:00    0.151300\n",
      "2014-01-06 21:00:00   -0.056538\n",
      "2014-01-06 22:00:00    0.092073\n",
      "2014-01-06 23:00:00    0.030331\n",
      "2014-01-07 00:00:00    0.094392\n",
      "2014-01-07 01:00:00    0.057240\n",
      "2014-01-07 02:00:00    0.081240\n",
      "2014-01-07 03:00:00    0.083767\n",
      "2014-01-07 04:00:00   -0.144463\n",
      "2014-01-07 05:00:00   -0.184774\n",
      "                         ...   \n",
      "2015-01-04 19:00:00    0.079526\n",
      "2015-01-04 20:00:00    0.085191\n",
      "2015-01-04 21:00:00    0.090341\n",
      "2015-01-04 22:00:00    0.095053\n",
      "2015-01-04 23:00:00    0.099375\n",
      "2015-01-05 00:00:00    0.103345\n",
      "2015-01-05 01:00:00    0.106993\n",
      "2015-01-05 02:00:00    0.110344\n",
      "2015-01-05 03:00:00    0.113425\n",
      "2015-01-05 04:00:00   -0.011134\n",
      "2015-01-05 05:00:00   -0.102462\n",
      "2015-01-05 06:00:00   -0.150758\n",
      "2015-01-05 07:00:00    0.281140\n",
      "2015-01-05 08:00:00   -0.072523\n",
      "2015-01-05 09:00:00    0.111812\n",
      "2015-01-05 10:00:00    0.088333\n",
      "2015-01-05 11:00:00    0.071072\n",
      "2015-01-05 12:00:00    0.085742\n",
      "2015-01-05 13:00:00   -0.142299\n",
      "2015-01-05 14:00:00   -0.261453\n",
      "2015-01-05 15:00:00    0.183127\n",
      "2015-01-05 16:00:00   -0.085399\n",
      "2015-01-05 17:00:00    0.103130\n",
      "2015-01-05 18:00:00    0.026880\n",
      "2015-01-05 19:00:00    0.074329\n",
      "2015-01-05 20:00:00    0.055410\n",
      "2015-01-05 21:00:00   -0.221539\n",
      "2015-01-05 22:00:00   -0.132349\n",
      "2015-01-05 23:00:00   -0.029452\n",
      "2015-01-06 00:00:00   -0.081395\n",
      "Length: 8761, dtype: float64, 2.004696052069347], 'L_T7': [4, 0, 2, 14043.002143024196, DATETIME\n",
      "2014-01-06 00:00:00   -1.740178\n",
      "2014-01-06 01:00:00   -0.286219\n",
      "2014-01-06 02:00:00   -0.441599\n",
      "2014-01-06 03:00:00    0.384435\n",
      "2014-01-06 04:00:00    0.794528\n",
      "2014-01-06 05:00:00   -0.473576\n",
      "2014-01-06 06:00:00   -0.409755\n",
      "2014-01-06 07:00:00    0.180980\n",
      "2014-01-06 08:00:00   -0.051905\n",
      "2014-01-06 09:00:00    0.266228\n",
      "2014-01-06 10:00:00   -0.120387\n",
      "2014-01-06 11:00:00   -0.035972\n",
      "2014-01-06 12:00:00    0.253234\n",
      "2014-01-06 13:00:00    0.243555\n",
      "2014-01-06 14:00:00   -0.304040\n",
      "2014-01-06 15:00:00    0.177264\n",
      "2014-01-06 16:00:00    0.465879\n",
      "2014-01-06 17:00:00    0.516774\n",
      "2014-01-06 18:00:00    0.517434\n",
      "2014-01-06 19:00:00   -1.251751\n",
      "2014-01-06 20:00:00    0.461771\n",
      "2014-01-06 21:00:00   -0.480476\n",
      "2014-01-06 22:00:00   -0.297925\n",
      "2014-01-06 23:00:00   -0.581091\n",
      "2014-01-07 00:00:00   -0.164844\n",
      "2014-01-07 01:00:00   -0.104772\n",
      "2014-01-07 02:00:00    0.638548\n",
      "2014-01-07 03:00:00    0.662084\n",
      "2014-01-07 04:00:00   -0.698697\n",
      "2014-01-07 05:00:00   -0.349570\n",
      "                         ...   \n",
      "2015-01-04 19:00:00   -0.435230\n",
      "2015-01-04 20:00:00   -0.209715\n",
      "2015-01-04 21:00:00   -0.618072\n",
      "2015-01-04 22:00:00   -0.301416\n",
      "2015-01-04 23:00:00   -0.064123\n",
      "2015-01-05 00:00:00   -0.180423\n",
      "2015-01-05 01:00:00    0.135404\n",
      "2015-01-05 02:00:00    0.200915\n",
      "2015-01-05 03:00:00    0.772641\n",
      "2015-01-05 04:00:00    0.041814\n",
      "2015-01-05 05:00:00   -0.319012\n",
      "2015-01-05 06:00:00   -0.429344\n",
      "2015-01-05 07:00:00    0.973653\n",
      "2015-01-05 08:00:00    0.184415\n",
      "2015-01-05 09:00:00    0.507378\n",
      "2015-01-05 10:00:00    0.262678\n",
      "2015-01-05 11:00:00    0.761386\n",
      "2015-01-05 12:00:00    0.433507\n",
      "2015-01-05 13:00:00   -0.388109\n",
      "2015-01-05 14:00:00   -0.874052\n",
      "2015-01-05 15:00:00    0.616616\n",
      "2015-01-05 16:00:00   -0.553401\n",
      "2015-01-05 17:00:00    0.268234\n",
      "2015-01-05 18:00:00    0.690646\n",
      "2015-01-05 19:00:00    0.398055\n",
      "2015-01-05 20:00:00    0.674735\n",
      "2015-01-05 21:00:00   -0.802705\n",
      "2015-01-05 22:00:00   -0.583795\n",
      "2015-01-05 23:00:00   -0.173409\n",
      "2015-01-06 00:00:00   -0.575171\n",
      "Length: 8761, dtype: float64, 2.0000292652527087]}\n"
     ]
    }
   ],
   "source": [
    "arma_models = []\n",
    "p_values = range(1,6)\n",
    "d_values = range(0,3)\n",
    "q_values = range(0,3)\n",
    "Best_models = {}\n",
    "for sensor in L_group:\n",
    "        dataset_test = X_train03[sensor]\n",
    "        Ps = []\n",
    "        Ds = []\n",
    "        Qs = []\n",
    "        resids = []\n",
    "        dws = []\n",
    "        AICs = []\n",
    "        print(\"sensor:\", sensor)\n",
    "        for p in p_values:\n",
    "            for d in d_values:\n",
    "                for q in q_values:\n",
    "                    try:\n",
    "                        model = sm.tsa.ARIMA(dataset_test, order=(p,d,q))\n",
    "                        model_fit = model.fit()\n",
    "                        print(\"p : %d, d: %d, q: %d, AIC: %.2f\"%(p,d,q,model_fit.aic))\n",
    "                        Ps.append(p)\n",
    "                        Ds.append(d)\n",
    "                        Qs.append(q)\n",
    "                        AICs.append(model_fit.aic)\n",
    "                        #obey the theory or not\n",
    "                        dws.append(sm.stats.durbin_watson(model_fit.resid.values))\n",
    "                        resids.append(model_fit.resid)\n",
    "\n",
    "                    except:\n",
    "                        pass\n",
    "        idx = np.argmin(AICs)\n",
    "        Best_models[sensor] = [Ps[idx],Ds[idx],Qs[idx],AICs[idx],resids[idx],dws[idx]]\n",
    "print(Best_models)\n",
    "#LT1 -- 5,0,1\n",
    "#LT2 -- 5,0,2\n",
    "#LT3 -- 5,0,2\n",
    "#LT4 -- 5,0,2\n",
    "#LT5 -- 5,0,2\n",
    "#LT6 -- 5,0,2\n",
    "#LT7 -- 4,0,2"
   ]
  },
  {
   "cell_type": "code",
   "execution_count": 46,
   "metadata": {},
   "outputs": [
    {
     "name": "stderr",
     "output_type": "stream",
     "text": [
      "C:\\Users\\zinaw\\Anaconda3\\lib\\site-packages\\statsmodels\\tsa\\kalmanf\\kalmanfilter.py:646: FutureWarning: Conversion of the second argument of issubdtype from `float` to `np.floating` is deprecated. In future, it will be treated as `np.float64 == np.dtype(float).type`.\n",
      "  if issubdtype(paramsdtype, float):\n",
      "C:\\Users\\zinaw\\Anaconda3\\lib\\site-packages\\statsmodels\\tsa\\kalmanf\\kalmanfilter.py:650: FutureWarning: Conversion of the second argument of issubdtype from `complex` to `np.complexfloating` is deprecated. In future, it will be treated as `np.complex128 == np.dtype(complex).type`.\n",
      "  elif issubdtype(paramsdtype, complex):\n"
     ]
    },
    {
     "name": "stdout",
     "output_type": "stream",
     "text": [
      "-13306.70654694735 -13257.160089618685 -13289.824491535854\n",
      "-230.95274033162787 -181.4062830029633 -214.07068492013175\n",
      "-7399.461147462574 -7349.91469013391 -7382.579092051078\n",
      "8122.548867016532 8172.095324345197 8139.430922428029\n",
      "-289.0652707161753 -239.51881338751073 -272.18321530467915\n",
      "-12667.023544529457 -12617.477087200792 -12650.141489117961\n",
      "14087.078652701794 14129.547044697792 14101.548985911648\n"
     ]
    }
   ],
   "source": [
    "L_T1= X_train03['L_T1']\n",
    "arma_mod1 = sm.tsa.ARMA(L_T1,(5,0,1)).fit()\n",
    "print(arma_mod1.aic,arma_mod1.bic,arma_mod1.hqic)\n",
    "L_T2= X_train03['L_T2']\n",
    "arma_mod2 = sm.tsa.ARMA(L_T2,(5,0,2)).fit()\n",
    "print(arma_mod2.aic,arma_mod2.bic,arma_mod2.hqic)\n",
    "L_T3= X_train03['L_T3']\n",
    "arma_mod3 = sm.tsa.ARMA(L_T3,(5,0,2)).fit()\n",
    "print(arma_mod3.aic,arma_mod3.bic,arma_mod3.hqic)\n",
    "L_T4= X_train03['L_T4']\n",
    "arma_mod4 = sm.tsa.ARMA(L_T4,(5,0,2)).fit()\n",
    "print(arma_mod4.aic,arma_mod4.bic,arma_mod4.hqic)\n",
    "L_T5= X_train03['L_T5']\n",
    "arma_mod5 = sm.tsa.ARMA(L_T5,(5,0,2)).fit()\n",
    "print(arma_mod5.aic,arma_mod5.bic,arma_mod5.hqic)\n",
    "L_T6= X_train03['L_T6']\n",
    "arma_mod6 = sm.tsa.ARMA(L_T6,(5,0,2)).fit()\n",
    "print(arma_mod6.aic,arma_mod6.bic,arma_mod6.hqic)\n",
    "L_T7= X_train03['L_T7']\n",
    "arma_mod7 = sm.tsa.ARMA(L_T7,(4,0,2)).fit()\n",
    "print(arma_mod7.aic,arma_mod7.bic,arma_mod7.hqic)"
   ]
  },
  {
   "cell_type": "code",
   "execution_count": 277,
   "metadata": {},
   "outputs": [
    {
     "data": {
      "image/png": "[encoded data removed]",
      "text/plain": [
       "<matplotlib.figure.Figure at 0x1e7a2e51898>"
      ]
     },
     "metadata": {},
     "output_type": "display_data"
    },
    {
     "data": {
      "image/png": "[encoded data removed]",
      "text/plain": [
       "<matplotlib.figure.Figure at 0x1e7a2ebf4e0>"
      ]
     },
     "metadata": {},
     "output_type": "display_data"
    }
   ],
   "source": [
    "# calculate percentage of anomaly\n",
    "# import datetime\n",
    "# datetime.datetime(2017,4,1)-datetime.datetime(2017,1,4)\n",
    "# 492\n",
    "# 4176\n",
    "#407\n",
    "#2088\n",
    "plt.figure(figsize=(12,3))\n",
    "plt.plot(resid1)\n",
    "plt.axhline(y=0.1898, color='r', linestyle='-')\n",
    "plt.axhline(y=-0.1896, color='r', linestyle='-')\n",
    "plt.show()\n",
    "plt.figure(figsize=(12,3))\n",
    "plt.plot(y_train04_series)\n",
    "plt.show()"
   ]
  },
  {
   "cell_type": "code",
   "execution_count": 286,
   "metadata": {},
   "outputs": [
    {
     "name": "stderr",
     "output_type": "stream",
     "text": [
      "C:\\Users\\zinaw\\Anaconda3\\lib\\site-packages\\statsmodels\\tsa\\kalmanf\\kalmanfilter.py:646: FutureWarning: Conversion of the second argument of issubdtype from `float` to `np.floating` is deprecated. In future, it will be treated as `np.float64 == np.dtype(float).type`.\n",
      "  if issubdtype(paramsdtype, float):\n",
      "C:\\Users\\zinaw\\Anaconda3\\lib\\site-packages\\statsmodels\\tsa\\kalmanf\\kalmanfilter.py:650: FutureWarning: Conversion of the second argument of issubdtype from `complex` to `np.complexfloating` is deprecated. In future, it will be treated as `np.complex128 == np.dtype(complex).type`.\n",
      "  elif issubdtype(paramsdtype, complex):\n",
      "C:\\Users\\zinaw\\Anaconda3\\lib\\site-packages\\statsmodels\\tsa\\kalmanf\\kalmanfilter.py:577: FutureWarning: Conversion of the second argument of issubdtype from `float` to `np.floating` is deprecated. In future, it will be treated as `np.float64 == np.dtype(float).type`.\n",
      "  if issubdtype(paramsdtype, float):\n"
     ]
    },
    {
     "name": "stdout",
     "output_type": "stream",
     "text": [
      "For sensor L_T1 the threshold should be: -0.18959138870954434 0.1897615920727185\n",
      "For sensor L_T2 the threshold should be: -0.3337388488623592 0.39901103297351326\n",
      "For sensor L_T3 the threshold should be: -0.29857331746234606 0.22536294981199478\n",
      "For sensor L_T4 the threshold should be: -0.6546637309359921 0.5300676509034912\n",
      "For sensor L_T5 the threshold should be: -0.33889513935903764 0.3923923134301428\n",
      "For sensor L_T6 the threshold should be: -0.22324762903063128 0.12543316884579264\n",
      "For sensor L_T7 the threshold should be: -0.8940771938106151 0.7686794485842594\n"
     ]
    }
   ],
   "source": [
    "def find_threshold(data,percentage):\n",
    "    lower = np.percentile(data, 100-percentage, axis=0)\n",
    "    upper = np.percentile(data, percentage, axis=0)\n",
    "    return lower,upper\n",
    "# resid_threshold = 0.882\n",
    "percentage = 94.1\n",
    "# percentage = 99.8\n",
    "arma_mod1 = sm.tsa.ARMA(train04_series['L_T1'],(5,0,1)).fit()\n",
    "# print(sm.stats.durbin_watson(arma_mod1.resid.values))\n",
    "resid1 = arma_mod1.resid\n",
    "lower1,upper1 = find_threshold(resid1,percentage)\n",
    "print('For sensor L_T1 the threshold should be:',lower1, upper1)\n",
    "arma_mod2 = sm.tsa.ARMA(train04_series['L_T2'],(5,0,2)).fit()\n",
    "# print(sm.stats.durbin_watson(arma_mod1.resid.values))\n",
    "resid2 = arma_mod2.resid\n",
    "lower2,upper2 = find_threshold(resid2,percentage)\n",
    "print('For sensor L_T2 the threshold should be:',lower2, upper2)\n",
    "arma_mod3 = sm.tsa.ARMA(train04_series['L_T3'],(5,0,2)).fit()\n",
    "# print(sm.stats.durbin_watson(arma_mod1.resid.values))\n",
    "resid3 = arma_mod3.resid\n",
    "lower3,upper3 = find_threshold(resid3,percentage)\n",
    "print('For sensor L_T3 the threshold should be:',lower3, upper3)\n",
    "arma_mod4 = sm.tsa.ARMA(train04_series['L_T4'],(5,0,2)).fit()\n",
    "# print(sm.stats.durbin_watson(arma_mod1.resid.values))\n",
    "resid4 = arma_mod4.resid\n",
    "lower4,upper4 = find_threshold(resid4,percentage)\n",
    "print('For sensor L_T4 the threshold should be:',lower4,upper4)\n",
    "arma_mod5 = sm.tsa.ARMA(train04_series['L_T5'],(5,0,2)).fit()\n",
    "# print(sm.stats.durbin_watson(arma_mod1.resid.values))\n",
    "resid5 = arma_mod5.resid\n",
    "lower5,upper5 = find_threshold(resid5,percentage)\n",
    "print('For sensor L_T5 the threshold should be:',lower5,upper5)\n",
    "arma_mod6 = sm.tsa.ARMA(train04_series['L_T6'],(5,0,2)).fit()\n",
    "# print(sm.stats.durbin_watson(arma_mod1.resid.values))\n",
    "resid6 = arma_mod6.resid\n",
    "lower6,upper6 = find_threshold(resid6,percentage)\n",
    "print('For sensor L_T6 the threshold should be:',lower6,upper6)\n",
    "arma_mod7 = sm.tsa.ARMA(train04_series['L_T7'],(4,0,2)).fit()\n",
    "# print(sm.stats.durbin_watson(arma_mod1.resid.values))\n",
    "resid7 = arma_mod7.resid\n",
    "lower7,upper7 = find_threshold(resid7,percentage)\n",
    "print('For sensor L_T7 the threshold should be:',lower7,upper7)\n",
    "lower_threshold_train04_series= [lower1,lower2,lower3,lower4,lower5,lower6,lower7]\n",
    "upper_threshold_train04_series= [upper1,upper2,upper3,upper4,upper5,upper6,upper7]\n",
    "# plt.plot(resid1)\n",
    "# plt.axhline(y=0.5,color = 'r')\n",
    "# plt.axhline(y=-0.5,color = 'r')\n",
    "# fig = plt.figure(figsize=(12,8))"
   ]
  },
  {
   "cell_type": "code",
   "execution_count": 278,
   "metadata": {},
   "outputs": [
    {
     "name": "stderr",
     "output_type": "stream",
     "text": [
      "C:\\Users\\zinaw\\Anaconda3\\lib\\site-packages\\statsmodels\\tsa\\kalmanf\\kalmanfilter.py:646: FutureWarning: Conversion of the second argument of issubdtype from `float` to `np.floating` is deprecated. In future, it will be treated as `np.float64 == np.dtype(float).type`.\n",
      "  if issubdtype(paramsdtype, float):\n",
      "C:\\Users\\zinaw\\Anaconda3\\lib\\site-packages\\statsmodels\\tsa\\kalmanf\\kalmanfilter.py:650: FutureWarning: Conversion of the second argument of issubdtype from `complex` to `np.complexfloating` is deprecated. In future, it will be treated as `np.complex128 == np.dtype(complex).type`.\n",
      "  elif issubdtype(paramsdtype, complex):\n",
      "C:\\Users\\zinaw\\Anaconda3\\lib\\site-packages\\statsmodels\\tsa\\kalmanf\\kalmanfilter.py:577: FutureWarning: Conversion of the second argument of issubdtype from `float` to `np.floating` is deprecated. In future, it will be treated as `np.float64 == np.dtype(float).type`.\n",
      "  if issubdtype(paramsdtype, float):\n"
     ]
    },
    {
     "name": "stdout",
     "output_type": "stream",
     "text": [
      "For sensor L_T1 the threshold should be: -0.16991229963651003 0.1706639318238072\n",
      "For sensor L_T2 the threshold should be: -0.36032504531324905 0.4199961994809612\n",
      "For sensor L_T3 the threshold should be: -0.2895110331520553 0.22341026281460435\n",
      "For sensor L_T4 the threshold should be: -0.6690346916246043 0.5357052886909464\n",
      "For sensor L_T5 the threshold should be: -0.3532692442127754 0.40539707629752786\n",
      "For sensor L_T6 the threshold should be: -0.2282126813857081 0.11194999033387232\n",
      "For sensor L_T7 the threshold should be: -0.8490823282540603 0.7823442394073805\n"
     ]
    }
   ],
   "source": [
    "arma_mod1 = sm.tsa.ARMA(test_set['L_T1'],(5,0,1)).fit()\n",
    "# print(sm.stats.durbin_watson(arma_mod1.resid.values))\n",
    "resid1 = arma_mod1.resid\n",
    "lower1,upper1 = find_threshold(resid1,percentage)\n",
    "print('For sensor L_T1 the threshold should be:',lower1, upper1)\n",
    "arma_mod2 = sm.tsa.ARMA(test_set['L_T2'],(5,0,2)).fit()\n",
    "# print(sm.stats.durbin_watson(arma_mod1.resid.values))\n",
    "resid2 = arma_mod2.resid\n",
    "lower2,upper2 = find_threshold(resid2,percentage)\n",
    "print('For sensor L_T2 the threshold should be:',lower2, upper2)\n",
    "arma_mod3 = sm.tsa.ARMA(test_set['L_T3'],(5,0,2)).fit()\n",
    "# print(sm.stats.durbin_watson(arma_mod1.resid.values))\n",
    "resid3 = arma_mod3.resid\n",
    "lower3,upper3 = find_threshold(resid3,percentage)\n",
    "print('For sensor L_T3 the threshold should be:',lower3, upper3)\n",
    "arma_mod4 = sm.tsa.ARMA(test_set['L_T4'],(5,0,2)).fit()\n",
    "# print(sm.stats.durbin_watson(arma_mod1.resid.values))\n",
    "resid4 = arma_mod4.resid\n",
    "lower4,upper4 = find_threshold(resid4,percentage)\n",
    "print('For sensor L_T4 the threshold should be:',lower4,upper4)\n",
    "arma_mod5 = sm.tsa.ARMA(test_set['L_T5'],(5,0,2)).fit()\n",
    "# print(sm.stats.durbin_watson(arma_mod1.resid.values))\n",
    "resid5 = arma_mod5.resid\n",
    "lower5,upper5 = find_threshold(resid5,percentage)\n",
    "print('For sensor L_T5 the threshold should be:',lower5,upper5)\n",
    "arma_mod6 = sm.tsa.ARMA(test_set['L_T6'],(5,0,2)).fit()\n",
    "# print(sm.stats.durbin_watson(arma_mod1.resid.values))\n",
    "resid6 = arma_mod6.resid\n",
    "lower6,upper6 = find_threshold(resid6,percentage)\n",
    "print('For sensor L_T6 the threshold should be:',lower6,upper6)\n",
    "arma_mod7 = sm.tsa.ARMA(test_set['L_T7'],(4,0,2)).fit()\n",
    "# print(sm.stats.durbin_watson(arma_mod1.resid.values))\n",
    "resid7 = arma_mod7.resid\n",
    "lower7,upper7 = find_threshold(resid7,percentage)\n",
    "print('For sensor L_T7 the threshold should be:',lower7,upper7)\n",
    "lower_threshold_test_set= [lower1,lower2,lower3,lower4,lower5,lower6,lower7]\n",
    "upper_threshold_test_set= [upper1,upper2,upper3,upper4,upper5,upper6,upper7]\n",
    "# plt.plot(resid1)\n",
    "# plt.axhline(y=0.5,color = 'r')\n",
    "# plt.axhline(y=-0.5,color = 'r')\n",
    "# fig = plt.figure(figsize=(12,8))"
   ]
  },
  {
   "cell_type": "markdown",
   "metadata": {},
   "source": [
    "**Prediction**"
   ]
  },
  {
   "cell_type": "code",
   "execution_count": 279,
   "metadata": {},
   "outputs": [
    {
     "name": "stderr",
     "output_type": "stream",
     "text": [
      "C:\\Users\\zinaw\\Anaconda3\\lib\\site-packages\\statsmodels\\tsa\\kalmanf\\kalmanfilter.py:646: FutureWarning: Conversion of the second argument of issubdtype from `float` to `np.floating` is deprecated. In future, it will be treated as `np.float64 == np.dtype(float).type`.\n",
      "  if issubdtype(paramsdtype, float):\n",
      "C:\\Users\\zinaw\\Anaconda3\\lib\\site-packages\\statsmodels\\tsa\\kalmanf\\kalmanfilter.py:650: FutureWarning: Conversion of the second argument of issubdtype from `complex` to `np.complexfloating` is deprecated. In future, it will be treated as `np.complex128 == np.dtype(complex).type`.\n",
      "  elif issubdtype(paramsdtype, complex):\n",
      "C:\\Users\\zinaw\\Anaconda3\\lib\\site-packages\\statsmodels\\tsa\\kalmanf\\kalmanfilter.py:577: FutureWarning: Conversion of the second argument of issubdtype from `float` to `np.floating` is deprecated. In future, it will be treated as `np.float64 == np.dtype(float).type`.\n",
      "  if issubdtype(paramsdtype, float):\n"
     ]
    },
    {
     "name": "stdout",
     "output_type": "stream",
     "text": [
      "For training set 04 and L_T1 we have results:\n",
      "TP: 116\n",
      "FP: 378\n",
      "TN: 3307\n",
      "FN: 376\n",
      "precision: 0.23481781376518218\n",
      "recall: 0.23577235772357724\n",
      "accuracy 0.8194876705769691\n",
      "--------------------------------------\n",
      "For test set and L_T1 we have results:\n",
      "precision: 0.19433198380566802\n",
      "recall: 0.11793611793611794\n",
      "accuracy 0.7328865485878411\n",
      "--------------------------------------\n",
      "For training set 04 and L_T2 we have results:\n",
      "TP: 44\n",
      "FP: 358\n",
      "TN: 3327\n",
      "FN: 448\n",
      "precision: 0.10945273631840796\n",
      "recall: 0.08943089430894309\n",
      "accuracy 0.8070385444098636\n",
      "--------------------------------------\n",
      "For test set and L_T2 we have results:\n",
      "precision: 0.20212765957446807\n",
      "recall: 0.09336609336609336\n",
      "accuracy 0.7515557683101962\n",
      "--------------------------------------\n",
      "For training set 04 and L_T3 we have results:\n",
      "TP: 94\n",
      "FP: 610\n",
      "TN: 3075\n",
      "FN: 398\n",
      "precision: 0.13352272727272727\n",
      "recall: 0.1910569105691057\n",
      "accuracy 0.7586784773761073\n",
      "--------------------------------------\n",
      "For test set and L_T3 we have results:\n",
      "precision: 0.22191011235955055\n",
      "recall: 0.1941031941031941\n",
      "accuracy 0.7103877453326951\n",
      "--------------------------------------\n",
      "For training set 04 and L_T4 we have results:\n",
      "TP: 61\n",
      "FP: 597\n",
      "TN: 3088\n",
      "FN: 431\n",
      "precision: 0.09270516717325228\n",
      "recall: 0.12398373983739837\n",
      "accuracy 0.7538903519272205\n",
      "--------------------------------------\n",
      "For test set and L_T4 we have results:\n",
      "precision: 0.20615384615384616\n",
      "recall: 0.16461916461916462\n",
      "accuracy 0.713738630923887\n",
      "--------------------------------------\n",
      "For training set 04 and L_T5 we have results:\n",
      "TP: 47\n",
      "FP: 338\n",
      "TN: 3347\n",
      "FN: 445\n",
      "precision: 0.12207792207792208\n",
      "recall: 0.09552845528455285\n",
      "accuracy 0.8125448886760833\n",
      "--------------------------------------\n",
      "For test set and L_T5 we have results:\n",
      "precision: 0.14795918367346939\n",
      "recall: 0.07125307125307126\n",
      "accuracy 0.7391096218286262\n",
      "--------------------------------------\n",
      "For training set 04 and L_T6 we have results:\n",
      "TP: 123\n",
      "FP: 838\n",
      "TN: 2847\n",
      "FN: 369\n",
      "precision: 0.1279916753381894\n",
      "recall: 0.25\n",
      "accuracy 0.711036629159684\n",
      "--------------------------------------\n",
      "For test set and L_T6 we have results:\n",
      "precision: 0.19760479041916168\n",
      "recall: 0.24324324324324326\n",
      "accuracy 0.6601244614648157\n",
      "--------------------------------------\n",
      "For training set 04 and L_T7 we have results:\n",
      "TP: 78\n",
      "FP: 531\n",
      "TN: 3154\n",
      "FN: 414\n",
      "precision: 0.12807881773399016\n",
      "recall: 0.15853658536585366\n",
      "accuracy 0.7737610725401005\n",
      "--------------------------------------\n",
      "For test set and L_T7 we have results:\n",
      "precision: 0.21299638989169675\n",
      "recall: 0.14496314496314497\n",
      "accuracy 0.7290569650550502\n",
      "--------------------------------------\n"
     ]
    }
   ],
   "source": [
    "# In training set 2 and test set\n",
    "precision_list_train04_series = []\n",
    "recall_list_train04_series = []\n",
    "accuracy_list_train04_series = []\n",
    "precision_list_test_set = []\n",
    "recall_list_test_set = []\n",
    "accuracy_list_test_set = []\n",
    "\n",
    "order = [(5,0,1),(5,0,2),(5,0,2),(5,0,2),(5,0,2),(5,0,2),(4,0,2)]\n",
    "for index, feature in enumerate(L_group):\n",
    "    arma_mod_train04_series = sm.tsa.ARMA(train04_series[feature],order[index]).fit()\n",
    "    arma_mod_test_set = sm.tsa.ARMA(test_set[feature],order[index]).fit()\n",
    "    predict_label_list_train04_series =[]\n",
    "    predict_label_list_test_set =[]\n",
    "    predict_value_train04_series = arma_mod_train04_series.resid\n",
    "    predict_value_test_set = arma_mod_test_set.resid\n",
    "    \n",
    "    for prediction_train04_series in predict_value_train04_series:\n",
    "        prediction_train04_series = abs(prediction_train04_series)\n",
    "        if prediction_train04_series >= upper_threshold_train04_series[index] or prediction_train04_series <= lower_threshold_train04_series[index]:\n",
    "#             print(prediction)\n",
    "            predict_label_train04_series = 1\n",
    "        else:\n",
    "            predict_label_train04_series = -999\n",
    "        predict_label_list_train04_series.append(predict_label_train04_series)\n",
    "    for prediction_test_set in predict_value_test_set:\n",
    "        prediction_test_set = abs(prediction_test_set)\n",
    "        if prediction_test_set >= upper_threshold_test_set[index] or prediction_test_set <= lower_threshold_test_set[index]:\n",
    "    #         print(prediction)\n",
    "            predict_label_test_set = 1\n",
    "        else:\n",
    "            predict_label_test_set = -999\n",
    "        predict_label_list_test_set.append(predict_label_test_set)\n",
    "        \n",
    "    tp = 0\n",
    "    fp = 0\n",
    "    tn = 0\n",
    "    fn = 0\n",
    "    for index,predicted_label in enumerate(predict_label_list_train04_series):\n",
    "        if y_train04_series[index]==1 and predicted_label == 1:\n",
    "            tp = tp+1\n",
    "        if y_train04_series[index]==-999 and predicted_label == 1:\n",
    "            fp = fp+1\n",
    "        if y_train04_series[index]==-999 and predicted_label == -999:\n",
    "            tn = tn+1\n",
    "        if y_train04_series[index]==1 and predicted_label == -999:\n",
    "            fn = fn+1\n",
    "    print('For training set 04 and' ,feature,'we have results:')\n",
    "    print ('TP:',tp)\n",
    "    print ('FP:',fp)\n",
    "    print ('TN:',tn)\n",
    "    print ('FN:',fn)\n",
    "    print ('precision:' ,1.0 * tp/(tp+fp))\n",
    "    print ('recall:' ,1.0 * tp/(tp+fn))\n",
    "    print('accuracy',(tp+tn)/len(y_train04_series))\n",
    "    precision_list_train04_series.append(1.0 * tp/(tp+fp))\n",
    "    recall_list_train04_series.append(1.0 * tp/(tp+fn))\n",
    "    accuracy_list_train04_series.append((tp+tn)/len(y_train04_series))\n",
    "    \n",
    "    print('--------------------------------------')\n",
    "    tp = 0\n",
    "    fp = 0\n",
    "    tn = 0\n",
    "    fn = 0\n",
    "    for index,predicted_label in enumerate(predict_label_list_test_set):\n",
    "        if y_test[index]==1 and predicted_label == 1:\n",
    "            tp = tp+1\n",
    "        if y_test[index]==-999 and predicted_label == 1:\n",
    "            fp = fp+1\n",
    "        if y_test[index]==-999 and predicted_label == -999:\n",
    "            tn = tn+1\n",
    "        if y_test[index]==1 and predicted_label == -999:\n",
    "            fn = fn+1\n",
    "    print('For test set and' ,feature,'we have results:')\n",
    "#     print ('TP:',tp)\n",
    "#     print ('FP:',fp)\n",
    "#     print ('TN:',tn)\n",
    "#     print ('FN:',fn)\n",
    "    print ('precision:' ,1.0 * tp/(tp+fp))\n",
    "    print ('recall:' ,1.0 * tp/(tp+fn))\n",
    "    print('accuracy',(tp+tn)/len(y_test))\n",
    "    precision_list_test_set.append(1.0 * tp/(tp+fp))\n",
    "    recall_list_test_set.append(1.0 * tp/(tp+fn))\n",
    "    accuracy_list_test_set.append((tp+tn)/len(y_test))\n",
    "    print('--------------------------------------')\n",
    "    "
   ]
  },
  {
   "cell_type": "code",
   "execution_count": 285,
   "metadata": {},
   "outputs": [
    {
     "data": {
      "image/png": "[encoded data removed]",
      "text/plain": [
       "<matplotlib.figure.Figure at 0x1e79fff77f0>"
      ]
     },
     "metadata": {},
     "output_type": "display_data"
    },
    {
     "data": {
      "image/png": "[encoded data removed]",
      "text/plain": [
       "<matplotlib.figure.Figure at 0x1e797993278>"
      ]
     },
     "metadata": {},
     "output_type": "display_data"
    }
   ],
   "source": [
    "plt.figure(figsize=(5,5))\n",
    "plt.subplot(2,1,1)\n",
    "x_index=[1,2,3,4,5,6,7]\n",
    "plt.plot(x_index,precision_list_train04_series,label = 'Precision')\n",
    "plt.plot(x_index,recall_list_train04_series,label = 'Recall')\n",
    "plt.plot(x_index,accuracy_list_train04_series,label = 'Accuracy')\n",
    "plt.legend()\n",
    "plt.title('Performance in trianing set 4')\n",
    "plt.xlabel('Model of Senven Sensors')\n",
    "plt.ylabel('Perfromance')\n",
    "plt.show()\n",
    "plt.figure(figsize=(5,5))\n",
    "plt.subplot(2,1,2)\n",
    "plt.plot(x_index,precision_list_test_set,label = 'Precision')\n",
    "plt.plot(x_index,recall_list_test_set,label = 'Recall')\n",
    "plt.plot(x_index,accuracy_list_test_set,label = 'Accuracy')\n",
    "plt.legend()\n",
    "plt.title('Performance in test set')\n",
    "plt.xlabel('Model of Senven Sensors')\n",
    "plt.ylabel('Perfromance')\n",
    "plt.show()"
   ]
  },
  {
   "cell_type": "code",
   "execution_count": 296,
   "metadata": {},
   "outputs": [
    {
     "name": "stderr",
     "output_type": "stream",
     "text": [
      "C:\\Users\\zinaw\\Anaconda3\\lib\\site-packages\\statsmodels\\tsa\\kalmanf\\kalmanfilter.py:577: FutureWarning: Conversion of the second argument of issubdtype from `float` to `np.floating` is deprecated. In future, it will be treated as `np.float64 == np.dtype(float).type`.\n",
      "  if issubdtype(paramsdtype, float):\n"
     ]
    },
    {
     "data": {
      "text/plain": [
       "(410376, 411840)"
      ]
     },
     "execution_count": 296,
     "metadata": {},
     "output_type": "execute_result"
    },
    {
     "data": {
      "image/png": "[encoded data removed]",
      "text/plain": [
       "<matplotlib.figure.Figure at 0x1e7a9680a90>"
      ]
     },
     "metadata": {},
     "output_type": "display_data"
    }
   ],
   "source": [
    "# for familiarization part\n",
    "# predict  = arma_mod1.predict('2016-12-05', '2016-12-25', dynamic=True)\n",
    "# # print(predict_sunspots)\n",
    "# fig, ax = plt.subplots(figsize=(12, 4))\n",
    "# ax = train04_series['L_T1'].ix['2016-07-04':].plot(ax=ax)\n",
    "# predict.plot(ax=ax)\n",
    "# plt.xlim('2016-10-25','2016-12-25')"
   ]
  }
 ],
 "metadata": {
  "kernelspec": {
   "display_name": "Python 3",
   "language": "python",
   "name": "python3"
  },
  "language_info": {
   "codemirror_mode": {
    "name": "ipython",
    "version": 3
   },
   "file_extension": ".py",
   "mimetype": "text/x-python",
   "name": "python",
   "nbconvert_exporter": "python",
   "pygments_lexer": "ipython3",
   "version": "3.6.4"
  }
 },
 "nbformat": 4,
 "nbformat_minor": 2
}
