{
 "cells": [
  {
   "cell_type": "markdown",
   "metadata": {},
   "source": [
    "# Sampling & Sketching tasks"
   ]
  },
  {
   "cell_type": "markdown",
   "metadata": {},
   "source": [
    "We choose **CTU-Malware-Capture-Botnet-54** dataset to implement in this assignment.\n",
    "We finish the sampling and sketching tasks step by step as follows:\n",
    "1. Data preprocessing\n",
    "2. Find out the 10 most frequent IP address by traversing the data\n",
    "3. Apply Min-Wise hashing to find out 10 most frequent IP-addresses and analysis\n",
    "4. Apply Count-Min sketch to find out 10 most frequent IP-addresses and analysis."
   ]
  },
  {
   "cell_type": "code",
   "execution_count": 1,
   "metadata": {},
   "outputs": [],
   "source": [
    "import matplotlib.pyplot as plt\n",
    "import math\n",
    "import numpy as np\n",
    "import seaborn as sns\n",
    "import pandas as pd\n",
    "import random\n",
    "import collections\n",
    "import string\n",
    "import time\n",
    "from io import StringIO\n",
    "import csv\n",
    "from pandas import read_csv"
   ]
  },
  {
   "cell_type": "markdown",
   "metadata": {},
   "source": [
    "1. Data preprocessing"
   ]
  },
  {
   "cell_type": "code",
   "execution_count": null,
   "metadata": {},
   "outputs": [],
   "source": [
    "## Preprocessing data\n",
    "output = StringIO()\n",
    "csv_writer = csv.writer(output)\n",
    "column_name = ['Dateflowstart', 'Durat', 'Prot', 'SrcIPAddr:Port', 'DstIPAddr:Port', 'Flags', 'Tos', 'PacketsBytes', 'Flows', 'Label', 'Labels']\n",
    "Botnet_data = pd.DataFrame(columns = column_name)\n",
    "with open('capture20110818.pcap.netflow.labeled', 'rb') as f:\n",
    "    next(f)\n",
    "    for index, line in enumerate(f):\n",
    "        parser = line.decode(\"utf-8\")\n",
    "        split_by_space = parser.split('\\t')\n",
    "        temp1 =  [x for x in split_by_space if x != '->']\n",
    "        temp2 =  [x for x in temp1 if x != '']\n",
    "        temp2[-1] = temp2[-1].split('\\n')[0]\n",
    "        #print(temp2)\n",
    "        if(len(temp2)==1):\n",
    "            split_by_space = parser.split(' ')\n",
    "            temp1 =  [x for x in split_by_space if x != '->']\n",
    "            temp2 =  [x for x in temp1 if x != '']\n",
    "            temp2[-1] = temp2[-1].split('\\n')[0]\n",
    "            #print(temp2)\n",
    "            x=temp2.pop(1)\n",
    "            temp2[0]=temp2[0]+' '+x\n",
    "        csv_writer.writerow(temp2)\n",
    "    output.seek(0) # we need to get back to the start of the BytesIO\n",
    "    Botnet_data = read_csv(output)\n",
    "#print(Botnet_data)\n",
    "Botnet_data.to_csv('Botnet_data.csv', sep='\\t')"
   ]
  },
  {
   "cell_type": "markdown",
   "metadata": {},
   "source": [
    "2. Find out the 10 most frequent IP address by traversing the data"
   ]
  },
  {
   "cell_type": "code",
   "execution_count": 2,
   "metadata": {},
   "outputs": [
    {
     "data": {
      "text/plain": [
       "(1299089, 12)"
      ]
     },
     "execution_count": 2,
     "metadata": {},
     "output_type": "execute_result"
    }
   ],
   "source": [
    "#Load preprocessed data\n",
    "data=pd.read_csv('Botnet_data.csv',sep='\\t')\n",
    "data.shape\n",
    "    "
   ]
  },
  {
   "cell_type": "code",
   "execution_count": 6,
   "metadata": {
    "scrolled": true
   },
   "outputs": [
    {
     "name": "stdout",
     "output_type": "stream",
     "text": [
      "<class 'pandas.core.frame.DataFrame'>\n",
      "RangeIndex: 1299089 entries, 0 to 1299088\n",
      "Data columns (total 12 columns):\n",
      "Unnamed: 0        1299089 non-null int64\n",
      "Dateflowstart     1299089 non-null object\n",
      "Durat             1299089 non-null float64\n",
      "Prot              1299089 non-null object\n",
      "SrcIPAddr:Port    1299089 non-null object\n",
      "DstIPAddr:Port    1299089 non-null object\n",
      "Flags             1299089 non-null object\n",
      "Tos               1299089 non-null int64\n",
      "PacketsBytes      1299089 non-null int64\n",
      "Flows             1299089 non-null int64\n",
      "Label             1299089 non-null int64\n",
      "Labels            1299089 non-null object\n",
      "dtypes: float64(1), int64(5), object(6)\n",
      "memory usage: 118.9+ MB\n"
     ]
    }
   ],
   "source": [
    "data.info()"
   ]
  },
  {
   "cell_type": "code",
   "execution_count": 36,
   "metadata": {},
   "outputs": [
    {
     "name": "stdout",
     "output_type": "stream",
     "text": [
      "['Unnamed: 0', 'Dateflowstart', 'Durat', 'Prot', 'SrcIPAddr:Port', 'DstIPAddr:Port', 'Flags', 'Tos', 'PacketsBytes', 'Flows', 'Label', 'Labels']\n"
     ]
    }
   ],
   "source": [
    "print(list(data))"
   ]
  },
  {
   "cell_type": "code",
   "execution_count": 142,
   "metadata": {},
   "outputs": [
    {
     "name": "stdout",
     "output_type": "stream",
     "text": [
      "2598178\n"
     ]
    }
   ],
   "source": [
    "source=list(data['SrcIPAddr:Port'])+list(data['DstIPAddr:Port'])\n",
    "print(len(source))"
   ]
  },
  {
   "cell_type": "code",
   "execution_count": 42,
   "metadata": {},
   "outputs": [
    {
     "data": {
      "text/plain": [
       "1299089"
      ]
     },
     "execution_count": 42,
     "metadata": {},
     "output_type": "execute_result"
    }
   ],
   "source": [
    "len(list(data['SrcIPAddr:Port']))"
   ]
  },
  {
   "cell_type": "markdown",
   "metadata": {},
   "source": [
    "### Host ip from the website of the dataset"
   ]
  },
  {
   "cell_type": "code",
   "execution_count": 47,
   "metadata": {},
   "outputs": [],
   "source": [
    "host=['147.32.84.165','147.32.84.170','147.32.84.134','147.32.84.164','147.32.87.36','147.32.80.9','147.32.87.11']"
   ]
  },
  {
   "cell_type": "markdown",
   "metadata": {},
   "source": [
    "2. Find out the 10 most frequent IP address by traversing the data"
   ]
  },
  {
   "cell_type": "code",
   "execution_count": 143,
   "metadata": {},
   "outputs": [],
   "source": [
    "#Regard ip starting with '147' as host ip\n",
    "other_ip1={}\n",
    "for ip in source:\n",
    "    curr_ip=ip.split(':')[0]\n",
    "    #print(ip.split(',')[0])\n",
    "    if ip.split('.')[0]!='147':\n",
    "    #if curr_ip not in host:\n",
    "        if curr_ip in other_ip1:\n",
    "            other_ip1[curr_ip]+=1\n",
    "        else:\n",
    "            other_ip1[curr_ip]=1\n",
    "            \n",
    "        \n",
    "#print(other_ip)        "
   ]
  },
  {
   "cell_type": "code",
   "execution_count": 144,
   "metadata": {},
   "outputs": [],
   "source": [
    "other_ip2={}\n",
    "for ip in source:\n",
    "    curr_ip=ip.split(':')[0]\n",
    "    #print(ip.split(',')[0])\n",
    "    if curr_ip not in host:\n",
    "        if curr_ip in other_ip2:\n",
    "            other_ip2[curr_ip]+=+1\n",
    "        else:\n",
    "            other_ip2[curr_ip]=1\n",
    "            "
   ]
  },
  {
   "cell_type": "code",
   "execution_count": 145,
   "metadata": {},
   "outputs": [
    {
     "data": {
      "text/plain": [
       "2294423"
      ]
     },
     "execution_count": 145,
     "metadata": {},
     "output_type": "execute_result"
    }
   ],
   "source": [
    "sum(other_ip1.values())\n",
    "sum(other_ip2.values())"
   ]
  },
  {
   "cell_type": "code",
   "execution_count": 146,
   "metadata": {},
   "outputs": [
    {
     "data": {
      "text/plain": [
       "[('76.13.114.90', 6723),\n",
       " ('74.125.232.213', 6469),\n",
       " ('66.194.55.249', 5964),\n",
       " ('68.233.5.80', 5521),\n",
       " ('188.138.84.239', 5190),\n",
       " ('74.125.39.125', 4989),\n",
       " ('88.86.102.50', 4055),\n",
       " ('209.85.148.104', 3622),\n",
       " ('87.98.230.229', 3196),\n",
       " ('74.125.232.215', 3084)]"
      ]
     },
     "execution_count": 146,
     "metadata": {},
     "output_type": "execute_result"
    }
   ],
   "source": [
    "start_time = time.time()\n",
    "#Regard ip starting with '147' as host ip\n",
    "other_ip1={}\n",
    "for ip in source:\n",
    "    curr_ip=ip.split(':')[0]\n",
    "    #print(ip.split(',')[0])\n",
    "    if ip.split('.')[0]!='147':\n",
    "    #if curr_ip not in host:\n",
    "        if curr_ip in other_ip1:\n",
    "            other_ip1[curr_ip]+=1\n",
    "        else:\n",
    "            other_ip1[curr_ip]=1\n",
    "sorted(other_ip1.items(),key=lambda item:item[1],reverse=True)[0:10]\n",
    "print(\"--- %s seconds ---\" % (time.time() - start_time))\n"
   ]
  },
  {
   "cell_type": "code",
   "execution_count": 147,
   "metadata": {},
   "outputs": [
    {
     "data": {
      "text/plain": [
       "[('147.32.84.229', 590455),\n",
       " ('147.32.84.59', 126102),\n",
       " ('147.32.84.138', 117141),\n",
       " ('147.32.85.25', 31955),\n",
       " ('147.32.85.34', 23387),\n",
       " ('147.32.86.179', 23360),\n",
       " ('147.32.86.20', 21996),\n",
       " ('147.32.80.13', 21886),\n",
       " ('147.32.85.7', 17097),\n",
       " ('147.32.84.171', 13831)]"
      ]
     },
     "execution_count": 147,
     "metadata": {},
     "output_type": "execute_result"
    }
   ],
   "source": [
    "start_time = time.time()         \n",
    "other_ip2={}\n",
    "for ip in source:\n",
    "    curr_ip=ip.split(':')[0]\n",
    "    #print(ip.split(',')[0])\n",
    "    if curr_ip not in host:\n",
    "        if curr_ip in other_ip2:\n",
    "            other_ip2[curr_ip]+=+1\n",
    "        else:\n",
    "            other_ip2[curr_ip]=1\n",
    "sorted(other_ip2.items(),key=lambda item:item[1],reverse=True)[0:10]\n",
    "print(\"--- %s seconds ---\" % (time.time() - start_time))\n"
   ]
  },
  {
   "cell_type": "markdown",
   "metadata": {},
   "source": [
    "### MIN-WISE Hashing"
   ]
  },
  {
   "cell_type": "code",
   "execution_count": 151,
   "metadata": {},
   "outputs": [],
   "source": [
    "def min_wise_sample (streamdata, k):\n",
    "    sampledata=[]\n",
    "    sampledata_r=[]\n",
    "    for ip in streamdata[:k]:\n",
    "        #curr_ip=ip.split(':')[0]\n",
    "        r=random.random()\n",
    "        sampledata.append(ip)\n",
    "        sampledata_r.append(r)\n",
    "    \n",
    "    for ip in streamdata[k:]:\n",
    "        #curr_ip=ip.split(':')[0]\n",
    "        r=random.random()\n",
    "        if r<max(sampledata_r):\n",
    "            index=sampledata_r.index(max(sampledata_r))\n",
    "            sampledata.pop(index)\n",
    "            sampledata_r.pop(index)\n",
    "            sampledata.append(ip)\n",
    "            sampledata_r.append(r)\n",
    "    return sampledata\n",
    "            \n",
    "        "
   ]
  },
  {
   "cell_type": "code",
   "execution_count": 150,
   "metadata": {},
   "outputs": [
    {
     "name": "stdout",
     "output_type": "stream",
     "text": [
      "['147.32.84.144', '198.36.38.132', '41.103.64.21', '147.32.86.183', '147.32.80.13', '147.32.84.162', '83.163.158.159', '147.32.85.84', '147.32.84.171', '123.219.75.41']\n"
     ]
    }
   ],
   "source": [
    "#Preprocess need!!!!\n",
    "\n",
    "#preprocess 1\n",
    "source1=[]\n",
    "for ip in source:\n",
    "    curr_ip=ip.split(':')[0]\n",
    "    if ip.split('.')[0]!='147':\n",
    "    #if curr_ip not in host:\n",
    "        source1.append(curr_ip)\n",
    "        \n",
    "        \n",
    "#preprocess 2\n",
    "source2=[]\n",
    "for ip in source:\n",
    "    curr_ip=ip.split(':')[0]\n",
    "    if curr_ip not in host:\n",
    "        source2.append(curr_ip)\n",
    "\n",
    "\n"
   ]
  },
  {
   "cell_type": "code",
   "execution_count": 159,
   "metadata": {},
   "outputs": [
    {
     "name": "stdout",
     "output_type": "stream",
     "text": [
      "[('76.13.114.90', 215), ('74.125.232.213', 194), ('66.194.55.249', 193), ('68.233.5.80', 155), ('74.125.39.125', 143), ('188.138.84.239', 136), ('88.86.102.50', 119), ('209.85.148.104', 116), ('86.49.87.107', 98), ('109.80.225.83', 97)]\n",
      "[('147.32.84.229', 7714), ('147.32.84.59', 1613), ('147.32.84.138', 1511), ('147.32.85.25', 446), ('147.32.85.34', 326), ('147.32.86.179', 308), ('147.32.86.20', 290), ('147.32.80.13', 286), ('147.32.85.7', 240), ('147.32.84.171', 180)]\n"
     ]
    }
   ],
   "source": [
    "num=30000\n",
    "start_time=time.time()\n",
    "sample1=min_wise_sample (source1, num)\n",
    "print(collections.Counter(sample1).most_common(10))\n",
    "print(\"--- %s seconds ---\" % (time.time() - start_time))\n",
    "\n",
    "\n",
    "start_time=time.time()\n",
    "sample2=min_wise_sample (source2, num)\n",
    "print(collections.Counter(sample2).most_common(10))\n",
    "print(\"--- %s seconds ---\" % (time.time() - start_time))"
   ]
  },
  {
   "cell_type": "code",
   "execution_count": 160,
   "metadata": {},
   "outputs": [
    {
     "name": "stdout",
     "output_type": "stream",
     "text": [
      "1 3624858007723412619 1\n"
     ]
    }
   ],
   "source": [
    "print(hash(1),hash('1'),hash(1))"
   ]
  },
  {
   "cell_type": "code",
   "execution_count": 198,
   "metadata": {},
   "outputs": [],
   "source": [
    "def count_min_sketch(data,height,weight):\n",
    "    sketchmatrix=np.zeros((height,weight))\n",
    "    #random strings to execute different hash function\n",
    "    randomstring=[]\n",
    "    for i in range(height):\n",
    "        randomstring.append(''.join(random.sample(string.ascii_letters + string.digits, 8)))\n",
    "    \n",
    "    for ip in data:\n",
    "        for i in range(height):\n",
    "            temp=hash(randomstring[i]+str(ip))%weight\n",
    "            #print(temp)\n",
    "            sketchmatrix[i,temp]+=1\n",
    "    return sketchmatrix,randomstring\n",
    "\n",
    "def get_sketch_frequency(data,sketchmatrix,randomstring,num):\n",
    "    datafrequency={}\n",
    "    for ip in data:\n",
    "        tempnumber=[]\n",
    "        for i in range(len(randomstring)):\n",
    "            temp=hash(randomstring[i]+str(ip))%sketchmatrix.shape[1]\n",
    "            #print(temp)\n",
    "            tempnumber.append(sketchmatrix[i,temp])\n",
    "        datafrequency[ip]=min(tempnumber)\n",
    "        \n",
    "    return sorted(datafrequency.items(),key=lambda item:item[1],reverse=True)[0:num]\n",
    "            \n",
    "    "
   ]
  },
  {
   "cell_type": "code",
   "execution_count": 218,
   "metadata": {},
   "outputs": [
    {
     "name": "stdout",
     "output_type": "stream",
     "text": [
      "[('76.13.114.90', 7122.0), ('74.125.232.213', 6946.0), ('66.194.55.249', 6461.0), ('68.233.5.80', 6001.0), ('188.138.84.239', 5594.0), ('74.125.39.125', 5433.0), ('88.86.102.50', 4574.0), ('209.85.148.104', 4082.0), ('87.98.230.229', 3614.0), ('74.125.232.215', 3516.0)]\n",
      "--- 21.70082974433899 seconds ---\n"
     ]
    }
   ],
   "source": [
    "height=20\n",
    "weight=1000\n",
    "num=10\n",
    "start_time=time.time()\n",
    "sketchmatrix1,randomstring1=count_min_sketch(source1,height,weight)\n",
    "print(get_sketch_frequency(other_ip1.keys(),sketchmatrix1,randomstring1,num))\n",
    "\n",
    "print(\"--- %s seconds ---\" % (time.time() - start_time))"
   ]
  },
  {
   "cell_type": "code",
   "execution_count": 219,
   "metadata": {},
   "outputs": [
    {
     "name": "stdout",
     "output_type": "stream",
     "text": [
      "[('147.32.84.229', 590780.0), ('147.32.84.59', 126660.0), ('147.32.84.138', 117664.0), ('147.32.85.25', 32367.0), ('147.32.85.34', 23871.0), ('147.32.86.179', 23764.0), ('147.32.86.20', 22489.0), ('147.32.80.13', 22299.0), ('147.32.85.7', 17478.0), ('147.32.84.171', 14263.0)]\n",
      "--- 45.90023970603943 seconds ---\n"
     ]
    }
   ],
   "source": [
    "start_time=time.time()\n",
    "sketchmatrix2,randomstring2=count_min_sketch(source2,height,weight)\n",
    "print(get_sketch_frequency(other_ip2.keys(),sketchmatrix2,randomstring2,num))\n",
    "print(\"--- %s seconds ---\" % (time.time() - start_time))"
   ]
  },
  {
   "cell_type": "code",
   "execution_count": 173,
   "metadata": {},
   "outputs": [
    {
     "name": "stdout",
     "output_type": "stream",
     "text": [
      "0\n",
      "1\n",
      "2\n",
      "3\n",
      "4\n",
      "5\n",
      "6\n",
      "7\n",
      "8\n",
      "9\n"
     ]
    }
   ],
   "source": []
  },
  {
   "cell_type": "code",
   "execution_count": 210,
   "metadata": {},
   "outputs": [
    {
     "name": "stdout",
     "output_type": "stream",
     "text": [
      "[[0. 7. 0. 1.]\n",
      " [1. 2. 2. 3.]\n",
      " [1. 3. 2. 2.]]\n"
     ]
    },
    {
     "data": {
      "text/plain": [
       "[(1, 3.0), ('123', 2.0)]"
      ]
     },
     "execution_count": 210,
     "metadata": {},
     "output_type": "execute_result"
    }
   ],
   "source": [
    "\n"
   ]
  },
  {
   "cell_type": "code",
   "execution_count": 205,
   "metadata": {},
   "outputs": [
    {
     "data": {
      "text/plain": [
       "3"
      ]
     },
     "execution_count": 205,
     "metadata": {},
     "output_type": "execute_result"
    }
   ],
   "source": []
  },
  {
   "cell_type": "code",
   "execution_count": null,
   "metadata": {},
   "outputs": [],
   "source": []
  }
 ],
 "metadata": {
  "kernelspec": {
   "display_name": "Python 3",
   "language": "python",
   "name": "python3"
  },
  "language_info": {
   "codemirror_mode": {
    "name": "ipython",
    "version": 3
   },
   "file_extension": ".py",
   "mimetype": "text/x-python",
   "name": "python",
   "nbconvert_exporter": "python",
   "pygments_lexer": "ipython3",
   "version": "3.6.4"
  }
 },
 "nbformat": 4,
 "nbformat_minor": 2
}
